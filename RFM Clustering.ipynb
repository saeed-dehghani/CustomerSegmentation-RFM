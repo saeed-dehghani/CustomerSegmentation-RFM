{
 "cells": [
  {
   "cell_type": "markdown",
   "metadata": {},
   "source": [
    "# Customer Segmentation with RFM Analysis"
   ]
  },
  {
   "cell_type": "markdown",
   "metadata": {},
   "source": [
    "# by Saeed Dehghani"
   ]
  },
  {
   "cell_type": "code",
   "execution_count": 1,
   "metadata": {},
   "outputs": [],
   "source": [
    "import pandas as pd\n",
    "pd.options.display.float_format = \"{:.3f}\".format\n",
    "import matplotlib.pyplot as plt\n",
    "import seaborn as sns"
   ]
  },
  {
   "cell_type": "markdown",
   "metadata": {},
   "source": [
    "- Company - store online retail\n",
    "\n",
    "\n",
    "- Products for selling \n",
    "\n",
    "\n",
    "- Customers - Most are individuals\n",
    "\n",
    "\n",
    "- Transactions Period - 21 March 2019 - 22 Jul 2019 (About 4 months)"
   ]
  },
  {
   "cell_type": "markdown",
   "metadata": {},
   "source": [
    "### Read data and Data Inspection"
   ]
  },
  {
   "cell_type": "code",
   "execution_count": 2,
   "metadata": {},
   "outputs": [],
   "source": [
    "data=pd.read_csv(\"Customer_seg.csv\")"
   ]
  },
  {
   "cell_type": "code",
   "execution_count": 3,
   "metadata": {},
   "outputs": [
    {
     "data": {
      "text/html": [
       "<div>\n",
       "<style scoped>\n",
       "    .dataframe tbody tr th:only-of-type {\n",
       "        vertical-align: middle;\n",
       "    }\n",
       "\n",
       "    .dataframe tbody tr th {\n",
       "        vertical-align: top;\n",
       "    }\n",
       "\n",
       "    .dataframe thead th {\n",
       "        text-align: right;\n",
       "    }\n",
       "</style>\n",
       "<table border=\"1\" class=\"dataframe\">\n",
       "  <thead>\n",
       "    <tr style=\"text-align: right;\">\n",
       "      <th></th>\n",
       "      <th>order_id</th>\n",
       "      <th>created_ts</th>\n",
       "      <th>shamsy_date</th>\n",
       "      <th>customer_id</th>\n",
       "      <th>total_purchase</th>\n",
       "    </tr>\n",
       "  </thead>\n",
       "  <tbody>\n",
       "    <tr>\n",
       "      <th>0</th>\n",
       "      <td>5c92a3d9a7b11b0001e4ec46</td>\n",
       "      <td>3/21/2019 0:04</td>\n",
       "      <td>1398-Farvardin-1</td>\n",
       "      <td>5bf1092b24aa9a000135ac7c</td>\n",
       "      <td>240000.000</td>\n",
       "    </tr>\n",
       "    <tr>\n",
       "      <th>1</th>\n",
       "      <td>5c92af8024aa9a00015b536d</td>\n",
       "      <td>3/21/2019 0:54</td>\n",
       "      <td>1398-Farvardin-1</td>\n",
       "      <td>58d2fe9b46e0fb0001e432c0</td>\n",
       "      <td>620000.000</td>\n",
       "    </tr>\n",
       "    <tr>\n",
       "      <th>2</th>\n",
       "      <td>5c930b0ea7b11b0001e4f07e</td>\n",
       "      <td>3/21/2019 7:24</td>\n",
       "      <td>1398-Farvardin-1</td>\n",
       "      <td>5c85f140a7b11b0001e65ec1</td>\n",
       "      <td>320000.000</td>\n",
       "    </tr>\n",
       "    <tr>\n",
       "      <th>3</th>\n",
       "      <td>5c93157324aa9a00015b5750</td>\n",
       "      <td>3/21/2019 8:09</td>\n",
       "      <td>1398-Farvardin-1</td>\n",
       "      <td>59c52fe152faff00014e4932</td>\n",
       "      <td>220000.000</td>\n",
       "    </tr>\n",
       "    <tr>\n",
       "      <th>4</th>\n",
       "      <td>5c93250024aa9a00015b5884</td>\n",
       "      <td>3/21/2019 9:15</td>\n",
       "      <td>1398-Farvardin-1</td>\n",
       "      <td>58eba26fd601800001b98a34</td>\n",
       "      <td>360000.000</td>\n",
       "    </tr>\n",
       "  </tbody>\n",
       "</table>\n",
       "</div>"
      ],
      "text/plain": [
       "                   order_id      created_ts       shamsy_date  \\\n",
       "0  5c92a3d9a7b11b0001e4ec46  3/21/2019 0:04  1398-Farvardin-1   \n",
       "1  5c92af8024aa9a00015b536d  3/21/2019 0:54  1398-Farvardin-1   \n",
       "2  5c930b0ea7b11b0001e4f07e  3/21/2019 7:24  1398-Farvardin-1   \n",
       "3  5c93157324aa9a00015b5750  3/21/2019 8:09  1398-Farvardin-1   \n",
       "4  5c93250024aa9a00015b5884  3/21/2019 9:15  1398-Farvardin-1   \n",
       "\n",
       "                customer_id  total_purchase  \n",
       "0  5bf1092b24aa9a000135ac7c      240000.000  \n",
       "1  58d2fe9b46e0fb0001e432c0      620000.000  \n",
       "2  5c85f140a7b11b0001e65ec1      320000.000  \n",
       "3  59c52fe152faff00014e4932      220000.000  \n",
       "4  58eba26fd601800001b98a34      360000.000  "
      ]
     },
     "execution_count": 3,
     "metadata": {},
     "output_type": "execute_result"
    }
   ],
   "source": [
    "data.head()"
   ]
  },
  {
   "cell_type": "code",
   "execution_count": 4,
   "metadata": {},
   "outputs": [
    {
     "data": {
      "text/html": [
       "<div>\n",
       "<style scoped>\n",
       "    .dataframe tbody tr th:only-of-type {\n",
       "        vertical-align: middle;\n",
       "    }\n",
       "\n",
       "    .dataframe tbody tr th {\n",
       "        vertical-align: top;\n",
       "    }\n",
       "\n",
       "    .dataframe thead th {\n",
       "        text-align: right;\n",
       "    }\n",
       "</style>\n",
       "<table border=\"1\" class=\"dataframe\">\n",
       "  <thead>\n",
       "    <tr style=\"text-align: right;\">\n",
       "      <th></th>\n",
       "      <th>order_id</th>\n",
       "      <th>created_ts</th>\n",
       "      <th>shamsy_date</th>\n",
       "      <th>customer_id</th>\n",
       "      <th>total_purchase</th>\n",
       "    </tr>\n",
       "  </thead>\n",
       "  <tbody>\n",
       "    <tr>\n",
       "      <th>40532</th>\n",
       "      <td>5d35fd03b2cf38d2d17b11c9</td>\n",
       "      <td>7/22/2019 22:44</td>\n",
       "      <td>1398-Tir-31</td>\n",
       "      <td>58d2972b46e0fb0001e42133</td>\n",
       "      <td>280000.000</td>\n",
       "    </tr>\n",
       "    <tr>\n",
       "      <th>40533</th>\n",
       "      <td>5d35fe44ec2c893461deb4e0</td>\n",
       "      <td>7/22/2019 22:49</td>\n",
       "      <td>1398-Tir-31</td>\n",
       "      <td>597009a6c9e77c00018c27d9</td>\n",
       "      <td>300000.000</td>\n",
       "    </tr>\n",
       "    <tr>\n",
       "      <th>40534</th>\n",
       "      <td>5d35ff28b2cf38d2d17b1228</td>\n",
       "      <td>7/22/2019 22:53</td>\n",
       "      <td>1398-Tir-31</td>\n",
       "      <td>59222bce52faff00016c59cc</td>\n",
       "      <td>180000.000</td>\n",
       "    </tr>\n",
       "    <tr>\n",
       "      <th>40535</th>\n",
       "      <td>5d360499b2cf38d2d17b12f6</td>\n",
       "      <td>7/22/2019 23:16</td>\n",
       "      <td>1398-Tir-31</td>\n",
       "      <td>5d19f78ab2cf38e5e4deddd6</td>\n",
       "      <td>180000.000</td>\n",
       "    </tr>\n",
       "    <tr>\n",
       "      <th>40536</th>\n",
       "      <td>5d360b2eec2c893461deb667</td>\n",
       "      <td>7/22/2019 23:44</td>\n",
       "      <td>1398-Tir-31</td>\n",
       "      <td>5c46e8fe24aa9a00019af009</td>\n",
       "      <td>180000.000</td>\n",
       "    </tr>\n",
       "  </tbody>\n",
       "</table>\n",
       "</div>"
      ],
      "text/plain": [
       "                       order_id       created_ts  shamsy_date  \\\n",
       "40532  5d35fd03b2cf38d2d17b11c9  7/22/2019 22:44  1398-Tir-31   \n",
       "40533  5d35fe44ec2c893461deb4e0  7/22/2019 22:49  1398-Tir-31   \n",
       "40534  5d35ff28b2cf38d2d17b1228  7/22/2019 22:53  1398-Tir-31   \n",
       "40535  5d360499b2cf38d2d17b12f6  7/22/2019 23:16  1398-Tir-31   \n",
       "40536  5d360b2eec2c893461deb667  7/22/2019 23:44  1398-Tir-31   \n",
       "\n",
       "                    customer_id  total_purchase  \n",
       "40532  58d2972b46e0fb0001e42133      280000.000  \n",
       "40533  597009a6c9e77c00018c27d9      300000.000  \n",
       "40534  59222bce52faff00016c59cc      180000.000  \n",
       "40535  5d19f78ab2cf38e5e4deddd6      180000.000  \n",
       "40536  5c46e8fe24aa9a00019af009      180000.000  "
      ]
     },
     "execution_count": 4,
     "metadata": {},
     "output_type": "execute_result"
    }
   ],
   "source": [
    "data.tail()"
   ]
  },
  {
   "cell_type": "code",
   "execution_count": 5,
   "metadata": {},
   "outputs": [
    {
     "name": "stdout",
     "output_type": "stream",
     "text": [
      "<class 'pandas.core.frame.DataFrame'>\n",
      "RangeIndex: 40537 entries, 0 to 40536\n",
      "Data columns (total 5 columns):\n",
      " #   Column          Non-Null Count  Dtype  \n",
      "---  ------          --------------  -----  \n",
      " 0   order_id        40537 non-null  object \n",
      " 1   created_ts      40537 non-null  object \n",
      " 2   shamsy_date     40537 non-null  object \n",
      " 3   customer_id     40537 non-null  object \n",
      " 4   total_purchase  40537 non-null  float64\n",
      "dtypes: float64(1), object(4)\n",
      "memory usage: 1.5+ MB\n"
     ]
    }
   ],
   "source": [
    "data.info()"
   ]
  },
  {
   "cell_type": "code",
   "execution_count": 6,
   "metadata": {},
   "outputs": [
    {
     "data": {
      "text/plain": [
       "(40537, 5)"
      ]
     },
     "execution_count": 6,
     "metadata": {},
     "output_type": "execute_result"
    }
   ],
   "source": [
    "data.shape"
   ]
  },
  {
   "cell_type": "code",
   "execution_count": 7,
   "metadata": {},
   "outputs": [
    {
     "data": {
      "text/html": [
       "<div>\n",
       "<style scoped>\n",
       "    .dataframe tbody tr th:only-of-type {\n",
       "        vertical-align: middle;\n",
       "    }\n",
       "\n",
       "    .dataframe tbody tr th {\n",
       "        vertical-align: top;\n",
       "    }\n",
       "\n",
       "    .dataframe thead th {\n",
       "        text-align: right;\n",
       "    }\n",
       "</style>\n",
       "<table border=\"1\" class=\"dataframe\">\n",
       "  <thead>\n",
       "    <tr style=\"text-align: right;\">\n",
       "      <th></th>\n",
       "      <th>total_purchase</th>\n",
       "    </tr>\n",
       "  </thead>\n",
       "  <tbody>\n",
       "    <tr>\n",
       "      <th>count</th>\n",
       "      <td>40537.000</td>\n",
       "    </tr>\n",
       "    <tr>\n",
       "      <th>mean</th>\n",
       "      <td>348802.329</td>\n",
       "    </tr>\n",
       "    <tr>\n",
       "      <th>std</th>\n",
       "      <td>141445.039</td>\n",
       "    </tr>\n",
       "    <tr>\n",
       "      <th>min</th>\n",
       "      <td>80000.000</td>\n",
       "    </tr>\n",
       "    <tr>\n",
       "      <th>25%</th>\n",
       "      <td>260000.000</td>\n",
       "    </tr>\n",
       "    <tr>\n",
       "      <th>50%</th>\n",
       "      <td>320000.000</td>\n",
       "    </tr>\n",
       "    <tr>\n",
       "      <th>75%</th>\n",
       "      <td>420000.000</td>\n",
       "    </tr>\n",
       "    <tr>\n",
       "      <th>max</th>\n",
       "      <td>3200000.000</td>\n",
       "    </tr>\n",
       "  </tbody>\n",
       "</table>\n",
       "</div>"
      ],
      "text/plain": [
       "       total_purchase\n",
       "count       40537.000\n",
       "mean       348802.329\n",
       "std        141445.039\n",
       "min         80000.000\n",
       "25%        260000.000\n",
       "50%        320000.000\n",
       "75%        420000.000\n",
       "max       3200000.000"
      ]
     },
     "execution_count": 7,
     "metadata": {},
     "output_type": "execute_result"
    }
   ],
   "source": [
    "data.describe()"
   ]
  },
  {
   "cell_type": "code",
   "execution_count": 8,
   "metadata": {},
   "outputs": [
    {
     "name": "stdout",
     "output_type": "stream",
     "text": [
      "Duplicate entries: 0\n",
      "0% rows are duplicate.\n"
     ]
    }
   ],
   "source": [
    "print('Duplicate entries: {}'.format(data.duplicated().sum()))\n",
    "print('{}% rows are duplicate.'.format(round((data.duplicated().sum()/data.shape[0])*100),2))"
   ]
  },
  {
   "cell_type": "code",
   "execution_count": 9,
   "metadata": {},
   "outputs": [
    {
     "data": {
      "image/png": "[encoded data removed]",
      "text/plain": [
       "<Figure size 864x360 with 2 Axes>"
      ]
     },
     "metadata": {
      "needs_background": "light"
     },
     "output_type": "display_data"
    }
   ],
   "source": [
    "for var in [\"total_purchase\"]:\n",
    "    plt.figure(figsize=(12,5))\n",
    "    plt.subplot(1, 2, 1)\n",
    "    fig = data.boxplot(column=var,grid=False)\n",
    "    fig.set_ylabel(var)\n",
    "    \n",
    "    plt.subplot(1, 2, 2)\n",
    "    fig=sns.histplot(data[var], kde=True,bins=30)\n",
    "    fig.set_xlabel(var)\n",
    "\n",
    "    plt.show()"
   ]
  },
  {
   "cell_type": "markdown",
   "metadata": {},
   "source": [
    "- high skewed distribution with outliers"
   ]
  },
  {
   "cell_type": "markdown",
   "metadata": {},
   "source": [
    "### daily demand plot"
   ]
  },
  {
   "cell_type": "code",
   "execution_count": 10,
   "metadata": {},
   "outputs": [],
   "source": [
    "data[\"created_ts\"] = pd.to_datetime(data[\"created_ts\"])"
   ]
  },
  {
   "cell_type": "code",
   "execution_count": 11,
   "metadata": {},
   "outputs": [
    {
     "name": "stdout",
     "output_type": "stream",
     "text": [
      "<class 'pandas.core.frame.DataFrame'>\n",
      "RangeIndex: 40537 entries, 0 to 40536\n",
      "Data columns (total 5 columns):\n",
      " #   Column          Non-Null Count  Dtype         \n",
      "---  ------          --------------  -----         \n",
      " 0   order_id        40537 non-null  object        \n",
      " 1   created_ts      40537 non-null  datetime64[ns]\n",
      " 2   shamsy_date     40537 non-null  object        \n",
      " 3   customer_id     40537 non-null  object        \n",
      " 4   total_purchase  40537 non-null  float64       \n",
      "dtypes: datetime64[ns](1), float64(1), object(3)\n",
      "memory usage: 1.5+ MB\n"
     ]
    }
   ],
   "source": [
    "data.info()"
   ]
  },
  {
   "cell_type": "code",
   "execution_count": 12,
   "metadata": {},
   "outputs": [],
   "source": [
    "data[\"date\"] = data[\"created_ts\"].dt.date"
   ]
  },
  {
   "cell_type": "code",
   "execution_count": 13,
   "metadata": {},
   "outputs": [],
   "source": [
    "data.insert(loc=6, column=\"month\", value=data[\"created_ts\"].dt.month)\n",
    "\n",
    "# +1 to make Monday=1.....until Sunday=7\n",
    "data.insert(loc=7, column=\"day\", value=(data[\"created_ts\"].dt.dayofweek)+1)\n",
    "\n",
    "\n",
    "data.insert(loc=8, column=\"hour\", value=data[\"created_ts\"].dt.hour)"
   ]
  },
  {
   "cell_type": "code",
   "execution_count": 14,
   "metadata": {},
   "outputs": [
    {
     "data": {
      "text/html": [
       "<div>\n",
       "<style scoped>\n",
       "    .dataframe tbody tr th:only-of-type {\n",
       "        vertical-align: middle;\n",
       "    }\n",
       "\n",
       "    .dataframe tbody tr th {\n",
       "        vertical-align: top;\n",
       "    }\n",
       "\n",
       "    .dataframe thead th {\n",
       "        text-align: right;\n",
       "    }\n",
       "</style>\n",
       "<table border=\"1\" class=\"dataframe\">\n",
       "  <thead>\n",
       "    <tr style=\"text-align: right;\">\n",
       "      <th></th>\n",
       "      <th>order_id</th>\n",
       "      <th>created_ts</th>\n",
       "      <th>shamsy_date</th>\n",
       "      <th>customer_id</th>\n",
       "      <th>total_purchase</th>\n",
       "      <th>date</th>\n",
       "      <th>month</th>\n",
       "      <th>day</th>\n",
       "      <th>hour</th>\n",
       "    </tr>\n",
       "  </thead>\n",
       "  <tbody>\n",
       "    <tr>\n",
       "      <th>0</th>\n",
       "      <td>5c92a3d9a7b11b0001e4ec46</td>\n",
       "      <td>2019-03-21 00:04:00</td>\n",
       "      <td>1398-Farvardin-1</td>\n",
       "      <td>5bf1092b24aa9a000135ac7c</td>\n",
       "      <td>240000.000</td>\n",
       "      <td>2019-03-21</td>\n",
       "      <td>3</td>\n",
       "      <td>4</td>\n",
       "      <td>0</td>\n",
       "    </tr>\n",
       "    <tr>\n",
       "      <th>1</th>\n",
       "      <td>5c92af8024aa9a00015b536d</td>\n",
       "      <td>2019-03-21 00:54:00</td>\n",
       "      <td>1398-Farvardin-1</td>\n",
       "      <td>58d2fe9b46e0fb0001e432c0</td>\n",
       "      <td>620000.000</td>\n",
       "      <td>2019-03-21</td>\n",
       "      <td>3</td>\n",
       "      <td>4</td>\n",
       "      <td>0</td>\n",
       "    </tr>\n",
       "    <tr>\n",
       "      <th>2</th>\n",
       "      <td>5c930b0ea7b11b0001e4f07e</td>\n",
       "      <td>2019-03-21 07:24:00</td>\n",
       "      <td>1398-Farvardin-1</td>\n",
       "      <td>5c85f140a7b11b0001e65ec1</td>\n",
       "      <td>320000.000</td>\n",
       "      <td>2019-03-21</td>\n",
       "      <td>3</td>\n",
       "      <td>4</td>\n",
       "      <td>7</td>\n",
       "    </tr>\n",
       "    <tr>\n",
       "      <th>3</th>\n",
       "      <td>5c93157324aa9a00015b5750</td>\n",
       "      <td>2019-03-21 08:09:00</td>\n",
       "      <td>1398-Farvardin-1</td>\n",
       "      <td>59c52fe152faff00014e4932</td>\n",
       "      <td>220000.000</td>\n",
       "      <td>2019-03-21</td>\n",
       "      <td>3</td>\n",
       "      <td>4</td>\n",
       "      <td>8</td>\n",
       "    </tr>\n",
       "    <tr>\n",
       "      <th>4</th>\n",
       "      <td>5c93250024aa9a00015b5884</td>\n",
       "      <td>2019-03-21 09:15:00</td>\n",
       "      <td>1398-Farvardin-1</td>\n",
       "      <td>58eba26fd601800001b98a34</td>\n",
       "      <td>360000.000</td>\n",
       "      <td>2019-03-21</td>\n",
       "      <td>3</td>\n",
       "      <td>4</td>\n",
       "      <td>9</td>\n",
       "    </tr>\n",
       "  </tbody>\n",
       "</table>\n",
       "</div>"
      ],
      "text/plain": [
       "                   order_id          created_ts       shamsy_date  \\\n",
       "0  5c92a3d9a7b11b0001e4ec46 2019-03-21 00:04:00  1398-Farvardin-1   \n",
       "1  5c92af8024aa9a00015b536d 2019-03-21 00:54:00  1398-Farvardin-1   \n",
       "2  5c930b0ea7b11b0001e4f07e 2019-03-21 07:24:00  1398-Farvardin-1   \n",
       "3  5c93157324aa9a00015b5750 2019-03-21 08:09:00  1398-Farvardin-1   \n",
       "4  5c93250024aa9a00015b5884 2019-03-21 09:15:00  1398-Farvardin-1   \n",
       "\n",
       "                customer_id  total_purchase        date  month  day  hour  \n",
       "0  5bf1092b24aa9a000135ac7c      240000.000  2019-03-21      3    4     0  \n",
       "1  58d2fe9b46e0fb0001e432c0      620000.000  2019-03-21      3    4     0  \n",
       "2  5c85f140a7b11b0001e65ec1      320000.000  2019-03-21      3    4     7  \n",
       "3  59c52fe152faff00014e4932      220000.000  2019-03-21      3    4     8  \n",
       "4  58eba26fd601800001b98a34      360000.000  2019-03-21      3    4     9  "
      ]
     },
     "execution_count": 14,
     "metadata": {},
     "output_type": "execute_result"
    }
   ],
   "source": [
    "data.head()"
   ]
  },
  {
   "cell_type": "code",
   "execution_count": 15,
   "metadata": {},
   "outputs": [],
   "source": [
    "daily_demand = data.groupby(by = [\"date\"])[\"order_id\"].count()"
   ]
  },
  {
   "cell_type": "code",
   "execution_count": 16,
   "metadata": {},
   "outputs": [
    {
     "data": {
      "text/plain": [
       "date\n",
       "2019-03-21    33\n",
       "2019-03-22    21\n",
       "2019-03-23    38\n",
       "2019-03-24    27\n",
       "2019-03-25    73\n",
       "Name: order_id, dtype: int64"
      ]
     },
     "execution_count": 16,
     "metadata": {},
     "output_type": "execute_result"
    }
   ],
   "source": [
    "daily_demand.head()"
   ]
  },
  {
   "cell_type": "code",
   "execution_count": 17,
   "metadata": {},
   "outputs": [
    {
     "data": {
      "image/png": "[encoded data removed]",
      "text/plain": [
       "<Figure size 720x360 with 1 Axes>"
      ]
     },
     "metadata": {
      "needs_background": "light"
     },
     "output_type": "display_data"
    }
   ],
   "source": [
    "plt.figure(figsize=(10,5))\n",
    "daily_demand.plot()\n",
    "plt.xticks(rotation = 90) \n",
    "plt.ylabel(\"Demand\")\n",
    "plt.show()"
   ]
  },
  {
   "cell_type": "markdown",
   "metadata": {},
   "source": [
    "### How many orders (per month)?"
   ]
  },
  {
   "cell_type": "code",
   "execution_count": 18,
   "metadata": {},
   "outputs": [
    {
     "data": {
      "image/png": "[encoded data removed]",
      "text/plain": [
       "<Figure size 792x432 with 1 Axes>"
      ]
     },
     "metadata": {
      "needs_background": "light"
     },
     "output_type": "display_data"
    }
   ],
   "source": [
    "ax = data.groupby(\"order_id\")[\"month\"].unique().value_counts().sort_index().plot(kind=\"bar\",figsize=(11,6))\n",
    "ax.set_ylabel(\"Number of orders\")\n",
    "ax.set_title(\"Number of orders for different Months (21 March 2019 - 22 Jul 2019)\")\n",
    "ax.set_xticklabels((\"Mar\",\"Apr\",\"May\",\"Jun\",\"July\"),rotation=\"horizontal\", fontsize=11)\n",
    "plt.show()"
   ]
  },
  {
   "cell_type": "markdown",
   "metadata": {},
   "source": [
    "### How many orders(per day)?"
   ]
  },
  {
   "cell_type": "code",
   "execution_count": 19,
   "metadata": {},
   "outputs": [
    {
     "data": {
      "image/png": "[encoded data removed]",
      "text/plain": [
       "<Figure size 864x432 with 1 Axes>"
      ]
     },
     "metadata": {
      "needs_background": "light"
     },
     "output_type": "display_data"
    }
   ],
   "source": [
    "ax = data.groupby(\"order_id\")[\"day\"].unique().value_counts().sort_index().plot(kind=\"bar\",figsize=(12,6))\n",
    "ax.set_xlabel(\"Day\")\n",
    "ax.set_ylabel(\"Number of orders\")\n",
    "ax.set_title(\"Number of orders for different Days (21 March 2019 - 22 Jul 2019)\")\n",
    "ax.set_xticklabels((\"Monday\",\"Tue\",\"Wed\",\"Thur\",\"Fri\",\"Sat\",\"Sun\"), rotation=\"horizontal\",fontsize=11)\n",
    "plt.show()"
   ]
  },
  {
   "cell_type": "markdown",
   "metadata": {},
   "source": [
    "### How many orders (per hour)?"
   ]
  },
  {
   "cell_type": "code",
   "execution_count": 20,
   "metadata": {},
   "outputs": [
    {
     "data": {
      "image/png": "[encoded data removed]",
      "text/plain": [
       "<Figure size 792x432 with 1 Axes>"
      ]
     },
     "metadata": {
      "needs_background": "light"
     },
     "output_type": "display_data"
    }
   ],
   "source": [
    "ax = data.groupby(\"order_id\")[\"hour\"].unique().value_counts().sort_index().plot(kind=\"bar\",figsize=(11,6))\n",
    "ax.set_ylabel(\"Number of orders\")\n",
    "ax.set_title(\"Number of orders for different Hours (21 March 2019 - 22 Jul 2019)\")\n",
    "ax.set_xticklabels((\"24\",\"1\",\"2\",\"3\",\"4\",\"5\",\"6\",\"7\",\"8\",\"9\",\"10\",\"11\",\"12\",\n",
    "                   \"13\",\"14\",\"15\",\"16\",\"17\",\"18\",\"19\",\"20\",\"21\",\"22\",\"23\"),rotation=\"horizontal\", fontsize=11)\n",
    "plt.show()"
   ]
  },
  {
   "cell_type": "markdown",
   "metadata": {},
   "source": [
    "### Create RFM Features"
   ]
  },
  {
   "cell_type": "markdown",
   "metadata": {},
   "source": [
    "#### Recency"
   ]
  },
  {
   "cell_type": "code",
   "execution_count": 21,
   "metadata": {},
   "outputs": [
    {
     "name": "stdout",
     "output_type": "stream",
     "text": [
      "Min:2019-03-21; Max:2019-07-22\n"
     ]
    }
   ],
   "source": [
    "print(\"Min:{}; Max:{}\".format(min(data[\"date\"]),max(data[\"date\"])))"
   ]
  },
  {
   "cell_type": "code",
   "execution_count": 22,
   "metadata": {},
   "outputs": [],
   "source": [
    "snapshot = pd.to_datetime(\"2019-07-23\").date()"
   ]
  },
  {
   "cell_type": "code",
   "execution_count": 23,
   "metadata": {},
   "outputs": [],
   "source": [
    "r_date = snapshot - data[\"date\"]"
   ]
  },
  {
   "cell_type": "code",
   "execution_count": 24,
   "metadata": {},
   "outputs": [
    {
     "data": {
      "text/plain": [
       "0       124 days\n",
       "1       124 days\n",
       "2       124 days\n",
       "3       124 days\n",
       "4       124 days\n",
       "          ...   \n",
       "40532     1 days\n",
       "40533     1 days\n",
       "40534     1 days\n",
       "40535     1 days\n",
       "40536     1 days\n",
       "Name: date, Length: 40537, dtype: timedelta64[ns]"
      ]
     },
     "execution_count": 24,
     "metadata": {},
     "output_type": "execute_result"
    }
   ],
   "source": [
    "r_date"
   ]
  },
  {
   "cell_type": "code",
   "execution_count": 25,
   "metadata": {},
   "outputs": [
    {
     "data": {
      "text/html": [
       "<div>\n",
       "<style scoped>\n",
       "    .dataframe tbody tr th:only-of-type {\n",
       "        vertical-align: middle;\n",
       "    }\n",
       "\n",
       "    .dataframe tbody tr th {\n",
       "        vertical-align: top;\n",
       "    }\n",
       "\n",
       "    .dataframe thead th {\n",
       "        text-align: right;\n",
       "    }\n",
       "</style>\n",
       "<table border=\"1\" class=\"dataframe\">\n",
       "  <thead>\n",
       "    <tr style=\"text-align: right;\">\n",
       "      <th></th>\n",
       "      <th>order_id</th>\n",
       "      <th>created_ts</th>\n",
       "      <th>shamsy_date</th>\n",
       "      <th>customer_id</th>\n",
       "      <th>total_purchase</th>\n",
       "      <th>date</th>\n",
       "      <th>month</th>\n",
       "      <th>day</th>\n",
       "      <th>hour</th>\n",
       "      <th>r_date</th>\n",
       "    </tr>\n",
       "  </thead>\n",
       "  <tbody>\n",
       "    <tr>\n",
       "      <th>0</th>\n",
       "      <td>5c92a3d9a7b11b0001e4ec46</td>\n",
       "      <td>2019-03-21 00:04:00</td>\n",
       "      <td>1398-Farvardin-1</td>\n",
       "      <td>5bf1092b24aa9a000135ac7c</td>\n",
       "      <td>240000.000</td>\n",
       "      <td>2019-03-21</td>\n",
       "      <td>3</td>\n",
       "      <td>4</td>\n",
       "      <td>0</td>\n",
       "      <td>124</td>\n",
       "    </tr>\n",
       "    <tr>\n",
       "      <th>1</th>\n",
       "      <td>5c92af8024aa9a00015b536d</td>\n",
       "      <td>2019-03-21 00:54:00</td>\n",
       "      <td>1398-Farvardin-1</td>\n",
       "      <td>58d2fe9b46e0fb0001e432c0</td>\n",
       "      <td>620000.000</td>\n",
       "      <td>2019-03-21</td>\n",
       "      <td>3</td>\n",
       "      <td>4</td>\n",
       "      <td>0</td>\n",
       "      <td>124</td>\n",
       "    </tr>\n",
       "    <tr>\n",
       "      <th>2</th>\n",
       "      <td>5c930b0ea7b11b0001e4f07e</td>\n",
       "      <td>2019-03-21 07:24:00</td>\n",
       "      <td>1398-Farvardin-1</td>\n",
       "      <td>5c85f140a7b11b0001e65ec1</td>\n",
       "      <td>320000.000</td>\n",
       "      <td>2019-03-21</td>\n",
       "      <td>3</td>\n",
       "      <td>4</td>\n",
       "      <td>7</td>\n",
       "      <td>124</td>\n",
       "    </tr>\n",
       "    <tr>\n",
       "      <th>3</th>\n",
       "      <td>5c93157324aa9a00015b5750</td>\n",
       "      <td>2019-03-21 08:09:00</td>\n",
       "      <td>1398-Farvardin-1</td>\n",
       "      <td>59c52fe152faff00014e4932</td>\n",
       "      <td>220000.000</td>\n",
       "      <td>2019-03-21</td>\n",
       "      <td>3</td>\n",
       "      <td>4</td>\n",
       "      <td>8</td>\n",
       "      <td>124</td>\n",
       "    </tr>\n",
       "    <tr>\n",
       "      <th>4</th>\n",
       "      <td>5c93250024aa9a00015b5884</td>\n",
       "      <td>2019-03-21 09:15:00</td>\n",
       "      <td>1398-Farvardin-1</td>\n",
       "      <td>58eba26fd601800001b98a34</td>\n",
       "      <td>360000.000</td>\n",
       "      <td>2019-03-21</td>\n",
       "      <td>3</td>\n",
       "      <td>4</td>\n",
       "      <td>9</td>\n",
       "      <td>124</td>\n",
       "    </tr>\n",
       "    <tr>\n",
       "      <th>...</th>\n",
       "      <td>...</td>\n",
       "      <td>...</td>\n",
       "      <td>...</td>\n",
       "      <td>...</td>\n",
       "      <td>...</td>\n",
       "      <td>...</td>\n",
       "      <td>...</td>\n",
       "      <td>...</td>\n",
       "      <td>...</td>\n",
       "      <td>...</td>\n",
       "    </tr>\n",
       "    <tr>\n",
       "      <th>40532</th>\n",
       "      <td>5d35fd03b2cf38d2d17b11c9</td>\n",
       "      <td>2019-07-22 22:44:00</td>\n",
       "      <td>1398-Tir-31</td>\n",
       "      <td>58d2972b46e0fb0001e42133</td>\n",
       "      <td>280000.000</td>\n",
       "      <td>2019-07-22</td>\n",
       "      <td>7</td>\n",
       "      <td>1</td>\n",
       "      <td>22</td>\n",
       "      <td>1</td>\n",
       "    </tr>\n",
       "    <tr>\n",
       "      <th>40533</th>\n",
       "      <td>5d35fe44ec2c893461deb4e0</td>\n",
       "      <td>2019-07-22 22:49:00</td>\n",
       "      <td>1398-Tir-31</td>\n",
       "      <td>597009a6c9e77c00018c27d9</td>\n",
       "      <td>300000.000</td>\n",
       "      <td>2019-07-22</td>\n",
       "      <td>7</td>\n",
       "      <td>1</td>\n",
       "      <td>22</td>\n",
       "      <td>1</td>\n",
       "    </tr>\n",
       "    <tr>\n",
       "      <th>40534</th>\n",
       "      <td>5d35ff28b2cf38d2d17b1228</td>\n",
       "      <td>2019-07-22 22:53:00</td>\n",
       "      <td>1398-Tir-31</td>\n",
       "      <td>59222bce52faff00016c59cc</td>\n",
       "      <td>180000.000</td>\n",
       "      <td>2019-07-22</td>\n",
       "      <td>7</td>\n",
       "      <td>1</td>\n",
       "      <td>22</td>\n",
       "      <td>1</td>\n",
       "    </tr>\n",
       "    <tr>\n",
       "      <th>40535</th>\n",
       "      <td>5d360499b2cf38d2d17b12f6</td>\n",
       "      <td>2019-07-22 23:16:00</td>\n",
       "      <td>1398-Tir-31</td>\n",
       "      <td>5d19f78ab2cf38e5e4deddd6</td>\n",
       "      <td>180000.000</td>\n",
       "      <td>2019-07-22</td>\n",
       "      <td>7</td>\n",
       "      <td>1</td>\n",
       "      <td>23</td>\n",
       "      <td>1</td>\n",
       "    </tr>\n",
       "    <tr>\n",
       "      <th>40536</th>\n",
       "      <td>5d360b2eec2c893461deb667</td>\n",
       "      <td>2019-07-22 23:44:00</td>\n",
       "      <td>1398-Tir-31</td>\n",
       "      <td>5c46e8fe24aa9a00019af009</td>\n",
       "      <td>180000.000</td>\n",
       "      <td>2019-07-22</td>\n",
       "      <td>7</td>\n",
       "      <td>1</td>\n",
       "      <td>23</td>\n",
       "      <td>1</td>\n",
       "    </tr>\n",
       "  </tbody>\n",
       "</table>\n",
       "<p>40537 rows × 10 columns</p>\n",
       "</div>"
      ],
      "text/plain": [
       "                       order_id          created_ts       shamsy_date  \\\n",
       "0      5c92a3d9a7b11b0001e4ec46 2019-03-21 00:04:00  1398-Farvardin-1   \n",
       "1      5c92af8024aa9a00015b536d 2019-03-21 00:54:00  1398-Farvardin-1   \n",
       "2      5c930b0ea7b11b0001e4f07e 2019-03-21 07:24:00  1398-Farvardin-1   \n",
       "3      5c93157324aa9a00015b5750 2019-03-21 08:09:00  1398-Farvardin-1   \n",
       "4      5c93250024aa9a00015b5884 2019-03-21 09:15:00  1398-Farvardin-1   \n",
       "...                         ...                 ...               ...   \n",
       "40532  5d35fd03b2cf38d2d17b11c9 2019-07-22 22:44:00       1398-Tir-31   \n",
       "40533  5d35fe44ec2c893461deb4e0 2019-07-22 22:49:00       1398-Tir-31   \n",
       "40534  5d35ff28b2cf38d2d17b1228 2019-07-22 22:53:00       1398-Tir-31   \n",
       "40535  5d360499b2cf38d2d17b12f6 2019-07-22 23:16:00       1398-Tir-31   \n",
       "40536  5d360b2eec2c893461deb667 2019-07-22 23:44:00       1398-Tir-31   \n",
       "\n",
       "                    customer_id  total_purchase        date  month  day  hour  \\\n",
       "0      5bf1092b24aa9a000135ac7c      240000.000  2019-03-21      3    4     0   \n",
       "1      58d2fe9b46e0fb0001e432c0      620000.000  2019-03-21      3    4     0   \n",
       "2      5c85f140a7b11b0001e65ec1      320000.000  2019-03-21      3    4     7   \n",
       "3      59c52fe152faff00014e4932      220000.000  2019-03-21      3    4     8   \n",
       "4      58eba26fd601800001b98a34      360000.000  2019-03-21      3    4     9   \n",
       "...                         ...             ...         ...    ...  ...   ...   \n",
       "40532  58d2972b46e0fb0001e42133      280000.000  2019-07-22      7    1    22   \n",
       "40533  597009a6c9e77c00018c27d9      300000.000  2019-07-22      7    1    22   \n",
       "40534  59222bce52faff00016c59cc      180000.000  2019-07-22      7    1    22   \n",
       "40535  5d19f78ab2cf38e5e4deddd6      180000.000  2019-07-22      7    1    23   \n",
       "40536  5c46e8fe24aa9a00019af009      180000.000  2019-07-22      7    1    23   \n",
       "\n",
       "       r_date  \n",
       "0         124  \n",
       "1         124  \n",
       "2         124  \n",
       "3         124  \n",
       "4         124  \n",
       "...       ...  \n",
       "40532       1  \n",
       "40533       1  \n",
       "40534       1  \n",
       "40535       1  \n",
       "40536       1  \n",
       "\n",
       "[40537 rows x 10 columns]"
      ]
     },
     "execution_count": 25,
     "metadata": {},
     "output_type": "execute_result"
    }
   ],
   "source": [
    "data[\"r_date\"] = r_date.dt.days\n",
    "data"
   ]
  },
  {
   "cell_type": "code",
   "execution_count": 26,
   "metadata": {},
   "outputs": [
    {
     "data": {
      "text/html": [
       "<div>\n",
       "<style scoped>\n",
       "    .dataframe tbody tr th:only-of-type {\n",
       "        vertical-align: middle;\n",
       "    }\n",
       "\n",
       "    .dataframe tbody tr th {\n",
       "        vertical-align: top;\n",
       "    }\n",
       "\n",
       "    .dataframe thead th {\n",
       "        text-align: right;\n",
       "    }\n",
       "</style>\n",
       "<table border=\"1\" class=\"dataframe\">\n",
       "  <thead>\n",
       "    <tr style=\"text-align: right;\">\n",
       "      <th></th>\n",
       "      <th>Recency</th>\n",
       "    </tr>\n",
       "    <tr>\n",
       "      <th>customer_id</th>\n",
       "      <th></th>\n",
       "    </tr>\n",
       "  </thead>\n",
       "  <tbody>\n",
       "    <tr>\n",
       "      <th>5.94687E+23</th>\n",
       "      <td>9</td>\n",
       "    </tr>\n",
       "    <tr>\n",
       "      <th>5.94772E+23</th>\n",
       "      <td>64</td>\n",
       "    </tr>\n",
       "    <tr>\n",
       "      <th>5.94773E+23</th>\n",
       "      <td>9</td>\n",
       "    </tr>\n",
       "    <tr>\n",
       "      <th>5.95E+25</th>\n",
       "      <td>5</td>\n",
       "    </tr>\n",
       "    <tr>\n",
       "      <th>58a4b0e452faff000179dbd0</th>\n",
       "      <td>7</td>\n",
       "    </tr>\n",
       "    <tr>\n",
       "      <th>...</th>\n",
       "      <td>...</td>\n",
       "    </tr>\n",
       "    <tr>\n",
       "      <th>5d3584f8b2cf38d2d17aafba</th>\n",
       "      <td>1</td>\n",
       "    </tr>\n",
       "    <tr>\n",
       "      <th>5d359600b2cf38d2d17ac0e7</th>\n",
       "      <td>1</td>\n",
       "    </tr>\n",
       "    <tr>\n",
       "      <th>5d35a06bb2cf38d2d17acbc3</th>\n",
       "      <td>1</td>\n",
       "    </tr>\n",
       "    <tr>\n",
       "      <th>5d35ae07b2cf38d2d17adb54</th>\n",
       "      <td>1</td>\n",
       "    </tr>\n",
       "    <tr>\n",
       "      <th>5d35cf29b2cf38d2d17afcda</th>\n",
       "      <td>1</td>\n",
       "    </tr>\n",
       "  </tbody>\n",
       "</table>\n",
       "<p>14964 rows × 1 columns</p>\n",
       "</div>"
      ],
      "text/plain": [
       "                          Recency\n",
       "customer_id                      \n",
       "5.94687E+23                     9\n",
       "5.94772E+23                    64\n",
       "5.94773E+23                     9\n",
       "5.95E+25                        5\n",
       "58a4b0e452faff000179dbd0        7\n",
       "...                           ...\n",
       "5d3584f8b2cf38d2d17aafba        1\n",
       "5d359600b2cf38d2d17ac0e7        1\n",
       "5d35a06bb2cf38d2d17acbc3        1\n",
       "5d35ae07b2cf38d2d17adb54        1\n",
       "5d35cf29b2cf38d2d17afcda        1\n",
       "\n",
       "[14964 rows x 1 columns]"
      ]
     },
     "execution_count": 26,
     "metadata": {},
     "output_type": "execute_result"
    }
   ],
   "source": [
    "customer_r = pd.DataFrame(data.groupby(by = [\"customer_id\"])[\"r_date\"].min())\n",
    "customer_r.columns = [\"Recency\"]\n",
    "customer_r"
   ]
  },
  {
   "cell_type": "markdown",
   "metadata": {},
   "source": [
    "#### Frequency"
   ]
  },
  {
   "cell_type": "code",
   "execution_count": 27,
   "metadata": {},
   "outputs": [
    {
     "data": {
      "text/html": [
       "<div>\n",
       "<style scoped>\n",
       "    .dataframe tbody tr th:only-of-type {\n",
       "        vertical-align: middle;\n",
       "    }\n",
       "\n",
       "    .dataframe tbody tr th {\n",
       "        vertical-align: top;\n",
       "    }\n",
       "\n",
       "    .dataframe thead th {\n",
       "        text-align: right;\n",
       "    }\n",
       "</style>\n",
       "<table border=\"1\" class=\"dataframe\">\n",
       "  <thead>\n",
       "    <tr style=\"text-align: right;\">\n",
       "      <th></th>\n",
       "      <th>Frequency</th>\n",
       "    </tr>\n",
       "    <tr>\n",
       "      <th>customer_id</th>\n",
       "      <th></th>\n",
       "    </tr>\n",
       "  </thead>\n",
       "  <tbody>\n",
       "    <tr>\n",
       "      <th>5.94687E+23</th>\n",
       "      <td>2</td>\n",
       "    </tr>\n",
       "    <tr>\n",
       "      <th>5.94772E+23</th>\n",
       "      <td>1</td>\n",
       "    </tr>\n",
       "    <tr>\n",
       "      <th>5.94773E+23</th>\n",
       "      <td>5</td>\n",
       "    </tr>\n",
       "    <tr>\n",
       "      <th>5.95E+25</th>\n",
       "      <td>1</td>\n",
       "    </tr>\n",
       "    <tr>\n",
       "      <th>58a4b0e452faff000179dbd0</th>\n",
       "      <td>7</td>\n",
       "    </tr>\n",
       "    <tr>\n",
       "      <th>...</th>\n",
       "      <td>...</td>\n",
       "    </tr>\n",
       "    <tr>\n",
       "      <th>5d3584f8b2cf38d2d17aafba</th>\n",
       "      <td>1</td>\n",
       "    </tr>\n",
       "    <tr>\n",
       "      <th>5d359600b2cf38d2d17ac0e7</th>\n",
       "      <td>1</td>\n",
       "    </tr>\n",
       "    <tr>\n",
       "      <th>5d35a06bb2cf38d2d17acbc3</th>\n",
       "      <td>1</td>\n",
       "    </tr>\n",
       "    <tr>\n",
       "      <th>5d35ae07b2cf38d2d17adb54</th>\n",
       "      <td>1</td>\n",
       "    </tr>\n",
       "    <tr>\n",
       "      <th>5d35cf29b2cf38d2d17afcda</th>\n",
       "      <td>1</td>\n",
       "    </tr>\n",
       "  </tbody>\n",
       "</table>\n",
       "<p>14964 rows × 1 columns</p>\n",
       "</div>"
      ],
      "text/plain": [
       "                          Frequency\n",
       "customer_id                        \n",
       "5.94687E+23                       2\n",
       "5.94772E+23                       1\n",
       "5.94773E+23                       5\n",
       "5.95E+25                          1\n",
       "58a4b0e452faff000179dbd0          7\n",
       "...                             ...\n",
       "5d3584f8b2cf38d2d17aafba          1\n",
       "5d359600b2cf38d2d17ac0e7          1\n",
       "5d35a06bb2cf38d2d17acbc3          1\n",
       "5d35ae07b2cf38d2d17adb54          1\n",
       "5d35cf29b2cf38d2d17afcda          1\n",
       "\n",
       "[14964 rows x 1 columns]"
      ]
     },
     "execution_count": 27,
     "metadata": {},
     "output_type": "execute_result"
    }
   ],
   "source": [
    "customer_f = pd.DataFrame({\"Frequency\": data.groupby(by = [\"customer_id\"])[\"order_id\"].count()})\n",
    "customer_f"
   ]
  },
  {
   "cell_type": "markdown",
   "metadata": {},
   "source": [
    "#### MonetaryValue"
   ]
  },
  {
   "cell_type": "code",
   "execution_count": 28,
   "metadata": {},
   "outputs": [
    {
     "data": {
      "text/html": [
       "<div>\n",
       "<style scoped>\n",
       "    .dataframe tbody tr th:only-of-type {\n",
       "        vertical-align: middle;\n",
       "    }\n",
       "\n",
       "    .dataframe tbody tr th {\n",
       "        vertical-align: top;\n",
       "    }\n",
       "\n",
       "    .dataframe thead th {\n",
       "        text-align: right;\n",
       "    }\n",
       "</style>\n",
       "<table border=\"1\" class=\"dataframe\">\n",
       "  <thead>\n",
       "    <tr style=\"text-align: right;\">\n",
       "      <th></th>\n",
       "      <th>MonetaryValue</th>\n",
       "    </tr>\n",
       "    <tr>\n",
       "      <th>customer_id</th>\n",
       "      <th></th>\n",
       "    </tr>\n",
       "  </thead>\n",
       "  <tbody>\n",
       "    <tr>\n",
       "      <th>5.94687E+23</th>\n",
       "      <td>680000.000</td>\n",
       "    </tr>\n",
       "    <tr>\n",
       "      <th>5.94772E+23</th>\n",
       "      <td>600000.000</td>\n",
       "    </tr>\n",
       "    <tr>\n",
       "      <th>5.94773E+23</th>\n",
       "      <td>1700000.000</td>\n",
       "    </tr>\n",
       "    <tr>\n",
       "      <th>5.95E+25</th>\n",
       "      <td>320000.000</td>\n",
       "    </tr>\n",
       "    <tr>\n",
       "      <th>58a4b0e452faff000179dbd0</th>\n",
       "      <td>1480000.000</td>\n",
       "    </tr>\n",
       "    <tr>\n",
       "      <th>...</th>\n",
       "      <td>...</td>\n",
       "    </tr>\n",
       "    <tr>\n",
       "      <th>5d3584f8b2cf38d2d17aafba</th>\n",
       "      <td>200000.000</td>\n",
       "    </tr>\n",
       "    <tr>\n",
       "      <th>5d359600b2cf38d2d17ac0e7</th>\n",
       "      <td>520000.000</td>\n",
       "    </tr>\n",
       "    <tr>\n",
       "      <th>5d35a06bb2cf38d2d17acbc3</th>\n",
       "      <td>440000.000</td>\n",
       "    </tr>\n",
       "    <tr>\n",
       "      <th>5d35ae07b2cf38d2d17adb54</th>\n",
       "      <td>200000.000</td>\n",
       "    </tr>\n",
       "    <tr>\n",
       "      <th>5d35cf29b2cf38d2d17afcda</th>\n",
       "      <td>420000.000</td>\n",
       "    </tr>\n",
       "  </tbody>\n",
       "</table>\n",
       "<p>14964 rows × 1 columns</p>\n",
       "</div>"
      ],
      "text/plain": [
       "                          MonetaryValue\n",
       "customer_id                            \n",
       "5.94687E+23                  680000.000\n",
       "5.94772E+23                  600000.000\n",
       "5.94773E+23                 1700000.000\n",
       "5.95E+25                     320000.000\n",
       "58a4b0e452faff000179dbd0    1480000.000\n",
       "...                                 ...\n",
       "5d3584f8b2cf38d2d17aafba     200000.000\n",
       "5d359600b2cf38d2d17ac0e7     520000.000\n",
       "5d35a06bb2cf38d2d17acbc3     440000.000\n",
       "5d35ae07b2cf38d2d17adb54     200000.000\n",
       "5d35cf29b2cf38d2d17afcda     420000.000\n",
       "\n",
       "[14964 rows x 1 columns]"
      ]
     },
     "execution_count": 28,
     "metadata": {},
     "output_type": "execute_result"
    }
   ],
   "source": [
    "customer_m = pd.DataFrame({\"MonetaryValue\": data.groupby(by = [\"customer_id\"])[\"total_purchase\"].sum()})\n",
    "customer_m"
   ]
  },
  {
   "cell_type": "code",
   "execution_count": 29,
   "metadata": {},
   "outputs": [
    {
     "data": {
      "text/html": [
       "<div>\n",
       "<style scoped>\n",
       "    .dataframe tbody tr th:only-of-type {\n",
       "        vertical-align: middle;\n",
       "    }\n",
       "\n",
       "    .dataframe tbody tr th {\n",
       "        vertical-align: top;\n",
       "    }\n",
       "\n",
       "    .dataframe thead th {\n",
       "        text-align: right;\n",
       "    }\n",
       "</style>\n",
       "<table border=\"1\" class=\"dataframe\">\n",
       "  <thead>\n",
       "    <tr style=\"text-align: right;\">\n",
       "      <th></th>\n",
       "      <th>Recency</th>\n",
       "      <th>Frequency</th>\n",
       "    </tr>\n",
       "    <tr>\n",
       "      <th>customer_id</th>\n",
       "      <th></th>\n",
       "      <th></th>\n",
       "    </tr>\n",
       "  </thead>\n",
       "  <tbody>\n",
       "    <tr>\n",
       "      <th>5.94687E+23</th>\n",
       "      <td>9</td>\n",
       "      <td>2</td>\n",
       "    </tr>\n",
       "    <tr>\n",
       "      <th>5.94772E+23</th>\n",
       "      <td>64</td>\n",
       "      <td>1</td>\n",
       "    </tr>\n",
       "    <tr>\n",
       "      <th>5.94773E+23</th>\n",
       "      <td>9</td>\n",
       "      <td>5</td>\n",
       "    </tr>\n",
       "    <tr>\n",
       "      <th>5.95E+25</th>\n",
       "      <td>5</td>\n",
       "      <td>1</td>\n",
       "    </tr>\n",
       "    <tr>\n",
       "      <th>58a4b0e452faff000179dbd0</th>\n",
       "      <td>7</td>\n",
       "      <td>7</td>\n",
       "    </tr>\n",
       "  </tbody>\n",
       "</table>\n",
       "</div>"
      ],
      "text/plain": [
       "                          Recency  Frequency\n",
       "customer_id                                 \n",
       "5.94687E+23                     9          2\n",
       "5.94772E+23                    64          1\n",
       "5.94773E+23                     9          5\n",
       "5.95E+25                        5          1\n",
       "58a4b0e452faff000179dbd0        7          7"
      ]
     },
     "execution_count": 29,
     "metadata": {},
     "output_type": "execute_result"
    }
   ],
   "source": [
    "df = customer_r.merge(customer_f, left_index = True, right_index = True)\n",
    "df.head()"
   ]
  },
  {
   "cell_type": "code",
   "execution_count": 30,
   "metadata": {},
   "outputs": [
    {
     "data": {
      "text/html": [
       "<div>\n",
       "<style scoped>\n",
       "    .dataframe tbody tr th:only-of-type {\n",
       "        vertical-align: middle;\n",
       "    }\n",
       "\n",
       "    .dataframe tbody tr th {\n",
       "        vertical-align: top;\n",
       "    }\n",
       "\n",
       "    .dataframe thead th {\n",
       "        text-align: right;\n",
       "    }\n",
       "</style>\n",
       "<table border=\"1\" class=\"dataframe\">\n",
       "  <thead>\n",
       "    <tr style=\"text-align: right;\">\n",
       "      <th></th>\n",
       "      <th>Recency</th>\n",
       "      <th>Frequency</th>\n",
       "      <th>MonetaryValue</th>\n",
       "    </tr>\n",
       "    <tr>\n",
       "      <th>customer_id</th>\n",
       "      <th></th>\n",
       "      <th></th>\n",
       "      <th></th>\n",
       "    </tr>\n",
       "  </thead>\n",
       "  <tbody>\n",
       "    <tr>\n",
       "      <th>5.94687E+23</th>\n",
       "      <td>9</td>\n",
       "      <td>2</td>\n",
       "      <td>680000.000</td>\n",
       "    </tr>\n",
       "    <tr>\n",
       "      <th>5.94772E+23</th>\n",
       "      <td>64</td>\n",
       "      <td>1</td>\n",
       "      <td>600000.000</td>\n",
       "    </tr>\n",
       "    <tr>\n",
       "      <th>5.94773E+23</th>\n",
       "      <td>9</td>\n",
       "      <td>5</td>\n",
       "      <td>1700000.000</td>\n",
       "    </tr>\n",
       "    <tr>\n",
       "      <th>5.95E+25</th>\n",
       "      <td>5</td>\n",
       "      <td>1</td>\n",
       "      <td>320000.000</td>\n",
       "    </tr>\n",
       "    <tr>\n",
       "      <th>58a4b0e452faff000179dbd0</th>\n",
       "      <td>7</td>\n",
       "      <td>7</td>\n",
       "      <td>1480000.000</td>\n",
       "    </tr>\n",
       "    <tr>\n",
       "      <th>58a56a6b52faff00013072d8</th>\n",
       "      <td>37</td>\n",
       "      <td>4</td>\n",
       "      <td>1220000.000</td>\n",
       "    </tr>\n",
       "    <tr>\n",
       "      <th>58a56f7452faff0001307334</th>\n",
       "      <td>73</td>\n",
       "      <td>2</td>\n",
       "      <td>1040000.000</td>\n",
       "    </tr>\n",
       "    <tr>\n",
       "      <th>58a583d552faff000130744c</th>\n",
       "      <td>32</td>\n",
       "      <td>1</td>\n",
       "      <td>180000.000</td>\n",
       "    </tr>\n",
       "    <tr>\n",
       "      <th>58a717b552faff0001c6b661</th>\n",
       "      <td>7</td>\n",
       "      <td>1</td>\n",
       "      <td>180000.000</td>\n",
       "    </tr>\n",
       "    <tr>\n",
       "      <th>58a8558352faff000139b647</th>\n",
       "      <td>3</td>\n",
       "      <td>1</td>\n",
       "      <td>460000.000</td>\n",
       "    </tr>\n",
       "  </tbody>\n",
       "</table>\n",
       "</div>"
      ],
      "text/plain": [
       "                          Recency  Frequency  MonetaryValue\n",
       "customer_id                                                \n",
       "5.94687E+23                     9          2     680000.000\n",
       "5.94772E+23                    64          1     600000.000\n",
       "5.94773E+23                     9          5    1700000.000\n",
       "5.95E+25                        5          1     320000.000\n",
       "58a4b0e452faff000179dbd0        7          7    1480000.000\n",
       "58a56a6b52faff00013072d8       37          4    1220000.000\n",
       "58a56f7452faff0001307334       73          2    1040000.000\n",
       "58a583d552faff000130744c       32          1     180000.000\n",
       "58a717b552faff0001c6b661        7          1     180000.000\n",
       "58a8558352faff000139b647        3          1     460000.000"
      ]
     },
     "execution_count": 30,
     "metadata": {},
     "output_type": "execute_result"
    }
   ],
   "source": [
    "rfm_customer = df.merge(customer_m, left_index = True, right_index = True)\n",
    "rfm_customer.head(10)"
   ]
  },
  {
   "cell_type": "markdown",
   "metadata": {},
   "source": [
    "### Check RFM Features"
   ]
  },
  {
   "cell_type": "code",
   "execution_count": 31,
   "metadata": {},
   "outputs": [
    {
     "data": {
      "image/png": "[encoded data removed]",
      "text/plain": [
       "<Figure size 792x360 with 2 Axes>"
      ]
     },
     "metadata": {
      "needs_background": "light"
     },
     "output_type": "display_data"
    },
    {
     "data": {
      "image/png": "[encoded data removed]",
      "text/plain": [
       "<Figure size 792x360 with 2 Axes>"
      ]
     },
     "metadata": {
      "needs_background": "light"
     },
     "output_type": "display_data"
    },
    {
     "data": {
      "image/png": "[encoded data removed]",
      "text/plain": [
       "<Figure size 792x360 with 2 Axes>"
      ]
     },
     "metadata": {
      "needs_background": "light"
     },
     "output_type": "display_data"
    }
   ],
   "source": [
    "for var in [\"Recency\",\"Frequency\",\"MonetaryValue\"]:\n",
    "    plt.figure(figsize=(11,5))\n",
    "    plt.subplot(1, 2, 1)\n",
    "    fig = rfm_customer.boxplot(column=var,grid=False)\n",
    "    fig.set_ylabel(var)\n",
    "    \n",
    "    plt.subplot(1, 2, 2)\n",
    "    fig=sns.histplot(rfm_customer[var], kde=True,bins=30)\n",
    "    fig.set_xlabel(var)\n",
    "\n",
    "    plt.show()"
   ]
  },
  {
   "cell_type": "markdown",
   "metadata": {},
   "source": [
    "- we have highly skewed variables"
   ]
  },
  {
   "cell_type": "code",
   "execution_count": 32,
   "metadata": {},
   "outputs": [
    {
     "data": {
      "image/png": "[encoded data removed]",
      "text/plain": [
       "<Figure size 432x360 with 2 Axes>"
      ]
     },
     "metadata": {
      "needs_background": "light"
     },
     "output_type": "display_data"
    }
   ],
   "source": [
    "plt.figure(figsize=(6,5))\n",
    "s = sns.heatmap(rfm_customer.corr(),cmap = \"YlGnBu\",annot=True,fmt=\".2f\",linewidths=2,vmin=-1, vmax=1)\n",
    "s.set_yticklabels(s.get_yticklabels(),rotation=0)\n",
    "plt.show()"
   ]
  },
  {
   "cell_type": "markdown",
   "metadata": {},
   "source": [
    "- Frequency and MonetaryValue are highly correlated\n",
    "\n",
    "\n",
    "- better to use PCA for create uncorrelated variables"
   ]
  },
  {
   "cell_type": "code",
   "execution_count": 33,
   "metadata": {},
   "outputs": [
    {
     "data": {
      "text/html": [
       "<div>\n",
       "<style scoped>\n",
       "    .dataframe tbody tr th:only-of-type {\n",
       "        vertical-align: middle;\n",
       "    }\n",
       "\n",
       "    .dataframe tbody tr th {\n",
       "        vertical-align: top;\n",
       "    }\n",
       "\n",
       "    .dataframe thead th {\n",
       "        text-align: right;\n",
       "    }\n",
       "</style>\n",
       "<table border=\"1\" class=\"dataframe\">\n",
       "  <thead>\n",
       "    <tr style=\"text-align: right;\">\n",
       "      <th></th>\n",
       "      <th>Recency</th>\n",
       "      <th>Frequency</th>\n",
       "      <th>MonetaryValue</th>\n",
       "    </tr>\n",
       "  </thead>\n",
       "  <tbody>\n",
       "    <tr>\n",
       "      <th>count</th>\n",
       "      <td>14964.000</td>\n",
       "      <td>14964.000</td>\n",
       "      <td>14964.000</td>\n",
       "    </tr>\n",
       "    <tr>\n",
       "      <th>mean</th>\n",
       "      <td>30.498</td>\n",
       "      <td>2.709</td>\n",
       "      <td>944894.413</td>\n",
       "    </tr>\n",
       "    <tr>\n",
       "      <th>std</th>\n",
       "      <td>30.833</td>\n",
       "      <td>3.425</td>\n",
       "      <td>1217562.738</td>\n",
       "    </tr>\n",
       "    <tr>\n",
       "      <th>min</th>\n",
       "      <td>1.000</td>\n",
       "      <td>1.000</td>\n",
       "      <td>80000.000</td>\n",
       "    </tr>\n",
       "    <tr>\n",
       "      <th>25%</th>\n",
       "      <td>7.000</td>\n",
       "      <td>1.000</td>\n",
       "      <td>320000.000</td>\n",
       "    </tr>\n",
       "    <tr>\n",
       "      <th>50%</th>\n",
       "      <td>19.000</td>\n",
       "      <td>1.000</td>\n",
       "      <td>520000.000</td>\n",
       "    </tr>\n",
       "    <tr>\n",
       "      <th>75%</th>\n",
       "      <td>43.000</td>\n",
       "      <td>3.000</td>\n",
       "      <td>1040000.000</td>\n",
       "    </tr>\n",
       "    <tr>\n",
       "      <th>max</th>\n",
       "      <td>124.000</td>\n",
       "      <td>61.000</td>\n",
       "      <td>20420000.000</td>\n",
       "    </tr>\n",
       "  </tbody>\n",
       "</table>\n",
       "</div>"
      ],
      "text/plain": [
       "        Recency  Frequency  MonetaryValue\n",
       "count 14964.000  14964.000      14964.000\n",
       "mean     30.498      2.709     944894.413\n",
       "std      30.833      3.425    1217562.738\n",
       "min       1.000      1.000      80000.000\n",
       "25%       7.000      1.000     320000.000\n",
       "50%      19.000      1.000     520000.000\n",
       "75%      43.000      3.000    1040000.000\n",
       "max     124.000     61.000   20420000.000"
      ]
     },
     "execution_count": 33,
     "metadata": {},
     "output_type": "execute_result"
    }
   ],
   "source": [
    "rfm_customer.describe()"
   ]
  },
  {
   "cell_type": "code",
   "execution_count": 34,
   "metadata": {},
   "outputs": [
    {
     "data": {
      "text/html": [
       "<div>\n",
       "<style scoped>\n",
       "    .dataframe tbody tr th:only-of-type {\n",
       "        vertical-align: middle;\n",
       "    }\n",
       "\n",
       "    .dataframe tbody tr th {\n",
       "        vertical-align: top;\n",
       "    }\n",
       "\n",
       "    .dataframe thead th {\n",
       "        text-align: right;\n",
       "    }\n",
       "</style>\n",
       "<table border=\"1\" class=\"dataframe\">\n",
       "  <thead>\n",
       "    <tr style=\"text-align: right;\">\n",
       "      <th></th>\n",
       "      <th>Recency</th>\n",
       "      <th>Frequency</th>\n",
       "      <th>MonetaryValue</th>\n",
       "    </tr>\n",
       "    <tr>\n",
       "      <th>customer_id</th>\n",
       "      <th></th>\n",
       "      <th></th>\n",
       "      <th></th>\n",
       "    </tr>\n",
       "  </thead>\n",
       "  <tbody>\n",
       "    <tr>\n",
       "      <th>5.94687E+23</th>\n",
       "      <td>-0.278</td>\n",
       "      <td>0.500</td>\n",
       "      <td>0.222</td>\n",
       "    </tr>\n",
       "    <tr>\n",
       "      <th>5.94772E+23</th>\n",
       "      <td>1.250</td>\n",
       "      <td>0.000</td>\n",
       "      <td>0.111</td>\n",
       "    </tr>\n",
       "    <tr>\n",
       "      <th>5.94773E+23</th>\n",
       "      <td>-0.278</td>\n",
       "      <td>2.000</td>\n",
       "      <td>1.639</td>\n",
       "    </tr>\n",
       "    <tr>\n",
       "      <th>5.95E+25</th>\n",
       "      <td>-0.389</td>\n",
       "      <td>0.000</td>\n",
       "      <td>-0.278</td>\n",
       "    </tr>\n",
       "    <tr>\n",
       "      <th>58a4b0e452faff000179dbd0</th>\n",
       "      <td>-0.333</td>\n",
       "      <td>3.000</td>\n",
       "      <td>1.333</td>\n",
       "    </tr>\n",
       "    <tr>\n",
       "      <th>58a56a6b52faff00013072d8</th>\n",
       "      <td>0.500</td>\n",
       "      <td>1.500</td>\n",
       "      <td>0.972</td>\n",
       "    </tr>\n",
       "    <tr>\n",
       "      <th>58a56f7452faff0001307334</th>\n",
       "      <td>1.500</td>\n",
       "      <td>0.500</td>\n",
       "      <td>0.722</td>\n",
       "    </tr>\n",
       "    <tr>\n",
       "      <th>58a583d552faff000130744c</th>\n",
       "      <td>0.361</td>\n",
       "      <td>0.000</td>\n",
       "      <td>-0.472</td>\n",
       "    </tr>\n",
       "    <tr>\n",
       "      <th>58a717b552faff0001c6b661</th>\n",
       "      <td>-0.333</td>\n",
       "      <td>0.000</td>\n",
       "      <td>-0.472</td>\n",
       "    </tr>\n",
       "    <tr>\n",
       "      <th>58a8558352faff000139b647</th>\n",
       "      <td>-0.444</td>\n",
       "      <td>0.000</td>\n",
       "      <td>-0.083</td>\n",
       "    </tr>\n",
       "  </tbody>\n",
       "</table>\n",
       "</div>"
      ],
      "text/plain": [
       "                          Recency  Frequency  MonetaryValue\n",
       "customer_id                                                \n",
       "5.94687E+23                -0.278      0.500          0.222\n",
       "5.94772E+23                 1.250      0.000          0.111\n",
       "5.94773E+23                -0.278      2.000          1.639\n",
       "5.95E+25                   -0.389      0.000         -0.278\n",
       "58a4b0e452faff000179dbd0   -0.333      3.000          1.333\n",
       "58a56a6b52faff00013072d8    0.500      1.500          0.972\n",
       "58a56f7452faff0001307334    1.500      0.500          0.722\n",
       "58a583d552faff000130744c    0.361      0.000         -0.472\n",
       "58a717b552faff0001c6b661   -0.333      0.000         -0.472\n",
       "58a8558352faff000139b647   -0.444      0.000         -0.083"
      ]
     },
     "execution_count": 34,
     "metadata": {},
     "output_type": "execute_result"
    }
   ],
   "source": [
    "#Scale features\n",
    "from sklearn.preprocessing import RobustScaler\n",
    "\n",
    "scaler = RobustScaler()\n",
    "\n",
    "scaled_data = pd.DataFrame(scaler.fit_transform(rfm_customer), \n",
    "                           columns = rfm_customer.columns, \n",
    "                           index = rfm_customer.index)\n",
    "\n",
    "scaled_data.head(10)"
   ]
  },
  {
   "cell_type": "markdown",
   "metadata": {},
   "source": [
    "### K-Means Clustering based on PCA"
   ]
  },
  {
   "cell_type": "code",
   "execution_count": 35,
   "metadata": {},
   "outputs": [
    {
     "data": {
      "text/plain": [
       "PCA()"
      ]
     },
     "execution_count": 35,
     "metadata": {},
     "output_type": "execute_result"
    }
   ],
   "source": [
    "from sklearn.decomposition import PCA\n",
    "\n",
    "pca = PCA()\n",
    "\n",
    "pca.fit(scaled_data)"
   ]
  },
  {
   "cell_type": "code",
   "execution_count": 36,
   "metadata": {},
   "outputs": [
    {
     "data": {
      "text/plain": [
       "array([0.87326471, 0.10356658, 0.02316871])"
      ]
     },
     "execution_count": 36,
     "metadata": {},
     "output_type": "execute_result"
    }
   ],
   "source": [
    "pca.explained_variance_ratio_"
   ]
  },
  {
   "cell_type": "markdown",
   "metadata": {},
   "source": [
    "#### Check Number of Components"
   ]
  },
  {
   "cell_type": "code",
   "execution_count": 37,
   "metadata": {},
   "outputs": [
    {
     "data": {
      "image/png": "[encoded data removed]",
      "text/plain": [
       "<Figure size 576x576 with 1 Axes>"
      ]
     },
     "metadata": {
      "needs_background": "light"
     },
     "output_type": "display_data"
    }
   ],
   "source": [
    "plt.figure(figsize=(8,8))\n",
    "plt.plot(range(1,4),pca.explained_variance_ratio_.cumsum(),marker=\"o\",linestyle=\"--\")\n",
    "plt.title(\"Explained Variance by Components\")\n",
    "plt.xlabel(\"Number of Components\")\n",
    "plt.ylabel(\"Cumulative Explained Variance\")\n",
    "plt.show()"
   ]
  },
  {
   "cell_type": "code",
   "execution_count": 38,
   "metadata": {},
   "outputs": [],
   "source": [
    "from sklearn.decomposition import PCA\n",
    "\n",
    "pca = PCA(n_components=2)\n",
    "\n",
    "scores_pca = pca.fit_transform(scaled_data)"
   ]
  },
  {
   "cell_type": "markdown",
   "metadata": {},
   "source": [
    "### Check Correlation Between Components and Original Variable"
   ]
  },
  {
   "cell_type": "code",
   "execution_count": 39,
   "metadata": {},
   "outputs": [
    {
     "data": {
      "text/html": [
       "<div>\n",
       "<style scoped>\n",
       "    .dataframe tbody tr th:only-of-type {\n",
       "        vertical-align: middle;\n",
       "    }\n",
       "\n",
       "    .dataframe tbody tr th {\n",
       "        vertical-align: top;\n",
       "    }\n",
       "\n",
       "    .dataframe thead th {\n",
       "        text-align: right;\n",
       "    }\n",
       "</style>\n",
       "<table border=\"1\" class=\"dataframe\">\n",
       "  <thead>\n",
       "    <tr style=\"text-align: right;\">\n",
       "      <th></th>\n",
       "      <th>Recency</th>\n",
       "      <th>Frequency</th>\n",
       "      <th>MonetaryValue</th>\n",
       "    </tr>\n",
       "  </thead>\n",
       "  <tbody>\n",
       "    <tr>\n",
       "      <th>PC1</th>\n",
       "      <td>-0.107</td>\n",
       "      <td>0.708</td>\n",
       "      <td>0.698</td>\n",
       "    </tr>\n",
       "    <tr>\n",
       "      <th>PC2</th>\n",
       "      <td>0.994</td>\n",
       "      <td>0.076</td>\n",
       "      <td>0.075</td>\n",
       "    </tr>\n",
       "  </tbody>\n",
       "</table>\n",
       "</div>"
      ],
      "text/plain": [
       "     Recency  Frequency  MonetaryValue\n",
       "PC1   -0.107      0.708          0.698\n",
       "PC2    0.994      0.076          0.075"
      ]
     },
     "execution_count": 39,
     "metadata": {},
     "output_type": "execute_result"
    }
   ],
   "source": [
    "data_pca = pd.DataFrame(data=pca.components_,columns=rfm_customer.columns,index=[\"PC1\",\"PC2\"])\n",
    "data_pca"
   ]
  },
  {
   "cell_type": "code",
   "execution_count": 40,
   "metadata": {},
   "outputs": [
    {
     "data": {
      "image/png": "[encoded data removed]",
      "text/plain": [
       "<Figure size 432x288 with 2 Axes>"
      ]
     },
     "metadata": {
      "needs_background": "light"
     },
     "output_type": "display_data"
    }
   ],
   "source": [
    "s=sns.heatmap(data_pca,annot=True,cmap=\"RdBu\",vmin=-1,vmax=1)\n",
    "s.set_yticklabels(s.get_yticklabels(),rotation=0)\n",
    "plt.show()"
   ]
  },
  {
   "cell_type": "markdown",
   "metadata": {},
   "source": [
    "### practical k-means clustering\n",
    "\n",
    "### Key steps\n",
    "\n",
    "-  Data pre-processing\n",
    "\n",
    "-  Choosing a number of clusters\n",
    "\n",
    "-  Running k-means clustering on pre-processed data\n",
    "\n",
    "-  Analyzing average RFM values of each cluster\n",
    "\n",
    "### Methods to define the number of clusters\n",
    "\n",
    "-  Visual methods - elbow criterion\n",
    "\n",
    "-  Mathematical methods - silhouette coefficient\n",
    "\n",
    "-  Experimentation and interpretation"
   ]
  },
  {
   "cell_type": "markdown",
   "metadata": {},
   "source": [
    "### Elbow Criterion Method for K-Means"
   ]
  },
  {
   "cell_type": "code",
   "execution_count": 41,
   "metadata": {},
   "outputs": [],
   "source": [
    "from sklearn.cluster import KMeans\n",
    "\n",
    "# Fit KMeans and calculate SSE for each k\n",
    "sse = {}\n",
    "for k in range(1, 10):\n",
    "    kmeans = KMeans(n_clusters = k, init = \"k-means++\", random_state = 1234,n_init=10,max_iter=300)\n",
    "    kmeans.fit(scores_pca)\n",
    "    sse[k] = kmeans.inertia_ # sum of squared distances to closest cluster center"
   ]
  },
  {
   "cell_type": "code",
   "execution_count": 42,
   "metadata": {},
   "outputs": [
    {
     "data": {
      "image/png": "[encoded data removed]",
      "text/plain": [
       "<Figure size 576x360 with 1 Axes>"
      ]
     },
     "metadata": {
      "needs_background": "light"
     },
     "output_type": "display_data"
    }
   ],
   "source": [
    "# Plot SSE for each k\n",
    "plt.figure(figsize=(8,5))\n",
    "sns.pointplot(x=list(sse.keys()), y=list(sse.values()))\n",
    "plt.title(\"The Elbow Method for PCA-K_Means\")\n",
    "plt.xlabel(\"Number of Clusters\")\n",
    "plt.ylabel(\"SSE\")\n",
    "plt.show()"
   ]
  },
  {
   "cell_type": "code",
   "execution_count": 43,
   "metadata": {},
   "outputs": [
    {
     "data": {
      "text/plain": [
       "KMeans(n_clusters=5, random_state=123)"
      ]
     },
     "execution_count": 43,
     "metadata": {},
     "output_type": "execute_result"
    }
   ],
   "source": [
    "from sklearn.cluster import KMeans\n",
    "\n",
    "kmeans = KMeans(n_clusters=5,init = \"k-means++\", random_state = 123,n_init=10,max_iter=300)\n",
    "kmeans.fit(scores_pca)"
   ]
  },
  {
   "cell_type": "markdown",
   "metadata": {},
   "source": [
    "### silhouette Criterion Method for PCA K-Means"
   ]
  },
  {
   "cell_type": "code",
   "execution_count": 44,
   "metadata": {},
   "outputs": [
    {
     "name": "stdout",
     "output_type": "stream",
     "text": [
      "0.5253920625889141\n"
     ]
    }
   ],
   "source": [
    "from sklearn.metrics import silhouette_score\n",
    "print(silhouette_score(scores_pca, kmeans.labels_, metric=\"euclidean\"))"
   ]
  },
  {
   "cell_type": "code",
   "execution_count": 45,
   "metadata": {},
   "outputs": [
    {
     "data": {
      "text/html": [
       "<div>\n",
       "<style scoped>\n",
       "    .dataframe tbody tr th:only-of-type {\n",
       "        vertical-align: middle;\n",
       "    }\n",
       "\n",
       "    .dataframe tbody tr th {\n",
       "        vertical-align: top;\n",
       "    }\n",
       "\n",
       "    .dataframe thead th {\n",
       "        text-align: right;\n",
       "    }\n",
       "</style>\n",
       "<table border=\"1\" class=\"dataframe\">\n",
       "  <thead>\n",
       "    <tr style=\"text-align: right;\">\n",
       "      <th></th>\n",
       "      <th>customer_id</th>\n",
       "      <th>Recency</th>\n",
       "      <th>Frequency</th>\n",
       "      <th>MonetaryValue</th>\n",
       "      <th>0</th>\n",
       "      <th>1</th>\n",
       "    </tr>\n",
       "  </thead>\n",
       "  <tbody>\n",
       "    <tr>\n",
       "      <th>0</th>\n",
       "      <td>5.94687E+23</td>\n",
       "      <td>9</td>\n",
       "      <td>2</td>\n",
       "      <td>680000.000</td>\n",
       "      <td>-0.444</td>\n",
       "      <td>-0.648</td>\n",
       "    </tr>\n",
       "    <tr>\n",
       "      <th>1</th>\n",
       "      <td>5.94772E+23</td>\n",
       "      <td>64</td>\n",
       "      <td>1</td>\n",
       "      <td>600000.000</td>\n",
       "      <td>-1.039</td>\n",
       "      <td>0.824</td>\n",
       "    </tr>\n",
       "    <tr>\n",
       "      <th>2</th>\n",
       "      <td>5.94773E+23</td>\n",
       "      <td>9</td>\n",
       "      <td>5</td>\n",
       "      <td>1700000.000</td>\n",
       "      <td>1.607</td>\n",
       "      <td>-0.428</td>\n",
       "    </tr>\n",
       "    <tr>\n",
       "      <th>3</th>\n",
       "      <td>5.95E+25</td>\n",
       "      <td>5</td>\n",
       "      <td>1</td>\n",
       "      <td>320000.000</td>\n",
       "      <td>-1.135</td>\n",
       "      <td>-0.835</td>\n",
       "    </tr>\n",
       "    <tr>\n",
       "      <th>4</th>\n",
       "      <td>58a4b0e452faff000179dbd0</td>\n",
       "      <td>7</td>\n",
       "      <td>7</td>\n",
       "      <td>1480000.000</td>\n",
       "      <td>2.107</td>\n",
       "      <td>-0.430</td>\n",
       "    </tr>\n",
       "  </tbody>\n",
       "</table>\n",
       "</div>"
      ],
      "text/plain": [
       "                customer_id  Recency  Frequency  MonetaryValue      0      1\n",
       "0               5.94687E+23        9          2     680000.000 -0.444 -0.648\n",
       "1               5.94772E+23       64          1     600000.000 -1.039  0.824\n",
       "2               5.94773E+23        9          5    1700000.000  1.607 -0.428\n",
       "3                  5.95E+25        5          1     320000.000 -1.135 -0.835\n",
       "4  58a4b0e452faff000179dbd0        7          7    1480000.000  2.107 -0.430"
      ]
     },
     "execution_count": 45,
     "metadata": {},
     "output_type": "execute_result"
    }
   ],
   "source": [
    "rfm_customer = rfm_customer.reset_index()\n",
    "rfm_customer_pca_kmeans = pd.concat([rfm_customer,pd.DataFrame(scores_pca)],axis=1)\n",
    "rfm_customer_pca_kmeans.head()"
   ]
  },
  {
   "cell_type": "code",
   "execution_count": 46,
   "metadata": {},
   "outputs": [
    {
     "data": {
      "text/html": [
       "<div>\n",
       "<style scoped>\n",
       "    .dataframe tbody tr th:only-of-type {\n",
       "        vertical-align: middle;\n",
       "    }\n",
       "\n",
       "    .dataframe tbody tr th {\n",
       "        vertical-align: top;\n",
       "    }\n",
       "\n",
       "    .dataframe thead th {\n",
       "        text-align: right;\n",
       "    }\n",
       "</style>\n",
       "<table border=\"1\" class=\"dataframe\">\n",
       "  <thead>\n",
       "    <tr style=\"text-align: right;\">\n",
       "      <th></th>\n",
       "      <th>customer_id</th>\n",
       "      <th>Recency</th>\n",
       "      <th>Frequency</th>\n",
       "      <th>MonetaryValue</th>\n",
       "      <th>PC1</th>\n",
       "      <th>PC2</th>\n",
       "    </tr>\n",
       "  </thead>\n",
       "  <tbody>\n",
       "    <tr>\n",
       "      <th>0</th>\n",
       "      <td>5.94687E+23</td>\n",
       "      <td>9</td>\n",
       "      <td>2</td>\n",
       "      <td>680000.000</td>\n",
       "      <td>-0.444</td>\n",
       "      <td>-0.648</td>\n",
       "    </tr>\n",
       "    <tr>\n",
       "      <th>1</th>\n",
       "      <td>5.94772E+23</td>\n",
       "      <td>64</td>\n",
       "      <td>1</td>\n",
       "      <td>600000.000</td>\n",
       "      <td>-1.039</td>\n",
       "      <td>0.824</td>\n",
       "    </tr>\n",
       "    <tr>\n",
       "      <th>2</th>\n",
       "      <td>5.94773E+23</td>\n",
       "      <td>9</td>\n",
       "      <td>5</td>\n",
       "      <td>1700000.000</td>\n",
       "      <td>1.607</td>\n",
       "      <td>-0.428</td>\n",
       "    </tr>\n",
       "    <tr>\n",
       "      <th>3</th>\n",
       "      <td>5.95E+25</td>\n",
       "      <td>5</td>\n",
       "      <td>1</td>\n",
       "      <td>320000.000</td>\n",
       "      <td>-1.135</td>\n",
       "      <td>-0.835</td>\n",
       "    </tr>\n",
       "    <tr>\n",
       "      <th>4</th>\n",
       "      <td>58a4b0e452faff000179dbd0</td>\n",
       "      <td>7</td>\n",
       "      <td>7</td>\n",
       "      <td>1480000.000</td>\n",
       "      <td>2.107</td>\n",
       "      <td>-0.430</td>\n",
       "    </tr>\n",
       "  </tbody>\n",
       "</table>\n",
       "</div>"
      ],
      "text/plain": [
       "                customer_id  Recency  Frequency  MonetaryValue    PC1    PC2\n",
       "0               5.94687E+23        9          2     680000.000 -0.444 -0.648\n",
       "1               5.94772E+23       64          1     600000.000 -1.039  0.824\n",
       "2               5.94773E+23        9          5    1700000.000  1.607 -0.428\n",
       "3                  5.95E+25        5          1     320000.000 -1.135 -0.835\n",
       "4  58a4b0e452faff000179dbd0        7          7    1480000.000  2.107 -0.430"
      ]
     },
     "execution_count": 46,
     "metadata": {},
     "output_type": "execute_result"
    }
   ],
   "source": [
    "rfm_customer_pca_kmeans = rfm_customer_pca_kmeans.rename(columns={0:\"PC1\",1:\"PC2\"})\n",
    "rfm_customer_pca_kmeans.head()"
   ]
  },
  {
   "cell_type": "code",
   "execution_count": 47,
   "metadata": {},
   "outputs": [
    {
     "data": {
      "text/html": [
       "<div>\n",
       "<style scoped>\n",
       "    .dataframe tbody tr th:only-of-type {\n",
       "        vertical-align: middle;\n",
       "    }\n",
       "\n",
       "    .dataframe tbody tr th {\n",
       "        vertical-align: top;\n",
       "    }\n",
       "\n",
       "    .dataframe thead th {\n",
       "        text-align: right;\n",
       "    }\n",
       "</style>\n",
       "<table border=\"1\" class=\"dataframe\">\n",
       "  <thead>\n",
       "    <tr style=\"text-align: right;\">\n",
       "      <th></th>\n",
       "      <th>customer_id</th>\n",
       "      <th>Recency</th>\n",
       "      <th>Frequency</th>\n",
       "      <th>MonetaryValue</th>\n",
       "      <th>PC1</th>\n",
       "      <th>PC2</th>\n",
       "      <th>segment k-means</th>\n",
       "    </tr>\n",
       "  </thead>\n",
       "  <tbody>\n",
       "    <tr>\n",
       "      <th>0</th>\n",
       "      <td>5.94687E+23</td>\n",
       "      <td>9</td>\n",
       "      <td>2</td>\n",
       "      <td>680000.000</td>\n",
       "      <td>-0.444</td>\n",
       "      <td>-0.648</td>\n",
       "      <td>4</td>\n",
       "    </tr>\n",
       "    <tr>\n",
       "      <th>1</th>\n",
       "      <td>5.94772E+23</td>\n",
       "      <td>64</td>\n",
       "      <td>1</td>\n",
       "      <td>600000.000</td>\n",
       "      <td>-1.039</td>\n",
       "      <td>0.824</td>\n",
       "      <td>3</td>\n",
       "    </tr>\n",
       "    <tr>\n",
       "      <th>2</th>\n",
       "      <td>5.94773E+23</td>\n",
       "      <td>9</td>\n",
       "      <td>5</td>\n",
       "      <td>1700000.000</td>\n",
       "      <td>1.607</td>\n",
       "      <td>-0.428</td>\n",
       "      <td>0</td>\n",
       "    </tr>\n",
       "    <tr>\n",
       "      <th>3</th>\n",
       "      <td>5.95E+25</td>\n",
       "      <td>5</td>\n",
       "      <td>1</td>\n",
       "      <td>320000.000</td>\n",
       "      <td>-1.135</td>\n",
       "      <td>-0.835</td>\n",
       "      <td>4</td>\n",
       "    </tr>\n",
       "    <tr>\n",
       "      <th>4</th>\n",
       "      <td>58a4b0e452faff000179dbd0</td>\n",
       "      <td>7</td>\n",
       "      <td>7</td>\n",
       "      <td>1480000.000</td>\n",
       "      <td>2.107</td>\n",
       "      <td>-0.430</td>\n",
       "      <td>0</td>\n",
       "    </tr>\n",
       "    <tr>\n",
       "      <th>5</th>\n",
       "      <td>58a56a6b52faff00013072d8</td>\n",
       "      <td>37</td>\n",
       "      <td>4</td>\n",
       "      <td>1220000.000</td>\n",
       "      <td>0.704</td>\n",
       "      <td>0.257</td>\n",
       "      <td>0</td>\n",
       "    </tr>\n",
       "    <tr>\n",
       "      <th>6</th>\n",
       "      <td>58a56f7452faff0001307334</td>\n",
       "      <td>73</td>\n",
       "      <td>2</td>\n",
       "      <td>1040000.000</td>\n",
       "      <td>-0.285</td>\n",
       "      <td>1.157</td>\n",
       "      <td>3</td>\n",
       "    </tr>\n",
       "    <tr>\n",
       "      <th>7</th>\n",
       "      <td>58a583d552faff000130744c</td>\n",
       "      <td>32</td>\n",
       "      <td>1</td>\n",
       "      <td>180000.000</td>\n",
       "      <td>-1.351</td>\n",
       "      <td>-0.104</td>\n",
       "      <td>4</td>\n",
       "    </tr>\n",
       "    <tr>\n",
       "      <th>8</th>\n",
       "      <td>58a717b552faff0001c6b661</td>\n",
       "      <td>7</td>\n",
       "      <td>1</td>\n",
       "      <td>180000.000</td>\n",
       "      <td>-1.277</td>\n",
       "      <td>-0.794</td>\n",
       "      <td>4</td>\n",
       "    </tr>\n",
       "    <tr>\n",
       "      <th>9</th>\n",
       "      <td>58a8558352faff000139b647</td>\n",
       "      <td>3</td>\n",
       "      <td>1</td>\n",
       "      <td>460000.000</td>\n",
       "      <td>-0.993</td>\n",
       "      <td>-0.875</td>\n",
       "      <td>4</td>\n",
       "    </tr>\n",
       "  </tbody>\n",
       "</table>\n",
       "</div>"
      ],
      "text/plain": [
       "                customer_id  Recency  Frequency  MonetaryValue    PC1    PC2  \\\n",
       "0               5.94687E+23        9          2     680000.000 -0.444 -0.648   \n",
       "1               5.94772E+23       64          1     600000.000 -1.039  0.824   \n",
       "2               5.94773E+23        9          5    1700000.000  1.607 -0.428   \n",
       "3                  5.95E+25        5          1     320000.000 -1.135 -0.835   \n",
       "4  58a4b0e452faff000179dbd0        7          7    1480000.000  2.107 -0.430   \n",
       "5  58a56a6b52faff00013072d8       37          4    1220000.000  0.704  0.257   \n",
       "6  58a56f7452faff0001307334       73          2    1040000.000 -0.285  1.157   \n",
       "7  58a583d552faff000130744c       32          1     180000.000 -1.351 -0.104   \n",
       "8  58a717b552faff0001c6b661        7          1     180000.000 -1.277 -0.794   \n",
       "9  58a8558352faff000139b647        3          1     460000.000 -0.993 -0.875   \n",
       "\n",
       "   segment k-means  \n",
       "0                4  \n",
       "1                3  \n",
       "2                0  \n",
       "3                4  \n",
       "4                0  \n",
       "5                0  \n",
       "6                3  \n",
       "7                4  \n",
       "8                4  \n",
       "9                4  "
      ]
     },
     "execution_count": 47,
     "metadata": {},
     "output_type": "execute_result"
    }
   ],
   "source": [
    "rfm_customer_pca_kmeans[\"segment k-means\"] = kmeans.predict(scores_pca)\n",
    "rfm_customer_pca_kmeans.head(10)"
   ]
  },
  {
   "cell_type": "code",
   "execution_count": 48,
   "metadata": {},
   "outputs": [
    {
     "data": {
      "text/html": [
       "<div>\n",
       "<style scoped>\n",
       "    .dataframe tbody tr th:only-of-type {\n",
       "        vertical-align: middle;\n",
       "    }\n",
       "\n",
       "    .dataframe tbody tr th {\n",
       "        vertical-align: top;\n",
       "    }\n",
       "\n",
       "    .dataframe thead th {\n",
       "        text-align: right;\n",
       "    }\n",
       "</style>\n",
       "<table border=\"1\" class=\"dataframe\">\n",
       "  <thead>\n",
       "    <tr style=\"text-align: right;\">\n",
       "      <th></th>\n",
       "      <th>Recency</th>\n",
       "      <th>Frequency</th>\n",
       "      <th>MonetaryValue</th>\n",
       "    </tr>\n",
       "    <tr>\n",
       "      <th>segment k-means</th>\n",
       "      <th></th>\n",
       "      <th></th>\n",
       "      <th></th>\n",
       "    </tr>\n",
       "  </thead>\n",
       "  <tbody>\n",
       "    <tr>\n",
       "      <th>0</th>\n",
       "      <td>13.732</td>\n",
       "      <td>5.277</td>\n",
       "      <td>1846797.945</td>\n",
       "    </tr>\n",
       "    <tr>\n",
       "      <th>1</th>\n",
       "      <td>10.739</td>\n",
       "      <td>25.441</td>\n",
       "      <td>9042342.342</td>\n",
       "    </tr>\n",
       "    <tr>\n",
       "      <th>2</th>\n",
       "      <td>9.848</td>\n",
       "      <td>12.139</td>\n",
       "      <td>4302835.821</td>\n",
       "    </tr>\n",
       "    <tr>\n",
       "      <th>3</th>\n",
       "      <td>80.827</td>\n",
       "      <td>1.252</td>\n",
       "      <td>421596.358</td>\n",
       "    </tr>\n",
       "    <tr>\n",
       "      <th>4</th>\n",
       "      <td>17.561</td>\n",
       "      <td>1.535</td>\n",
       "      <td>531983.162</td>\n",
       "    </tr>\n",
       "  </tbody>\n",
       "</table>\n",
       "</div>"
      ],
      "text/plain": [
       "                 Recency  Frequency  MonetaryValue\n",
       "segment k-means                                   \n",
       "0                 13.732      5.277    1846797.945\n",
       "1                 10.739     25.441    9042342.342\n",
       "2                  9.848     12.139    4302835.821\n",
       "3                 80.827      1.252     421596.358\n",
       "4                 17.561      1.535     531983.162"
      ]
     },
     "execution_count": 48,
     "metadata": {},
     "output_type": "execute_result"
    }
   ],
   "source": [
    "rfm_customer_analysis = rfm_customer_pca_kmeans[[\"Recency\",\"Frequency\",\"MonetaryValue\",\"segment k-means\"]].groupby([\"segment k-means\"]).mean()\n",
    "rfm_customer_analysis"
   ]
  },
  {
   "cell_type": "markdown",
   "metadata": {},
   "source": [
    "- cluster 0:Needs to attention\n",
    "\n",
    "\n",
    "- cluster 1:Champion\n",
    "\n",
    "\n",
    "- cluster 2:Loyal\n",
    "\n",
    "\n",
    "- cluster 3:Loose\n",
    "\n",
    "\n",
    "- cluster 4:About to sleep"
   ]
  },
  {
   "cell_type": "code",
   "execution_count": 49,
   "metadata": {},
   "outputs": [
    {
     "data": {
      "text/html": [
       "<div>\n",
       "<style scoped>\n",
       "    .dataframe tbody tr th:only-of-type {\n",
       "        vertical-align: middle;\n",
       "    }\n",
       "\n",
       "    .dataframe tbody tr th {\n",
       "        vertical-align: top;\n",
       "    }\n",
       "\n",
       "    .dataframe thead th {\n",
       "        text-align: right;\n",
       "    }\n",
       "</style>\n",
       "<table border=\"1\" class=\"dataframe\">\n",
       "  <thead>\n",
       "    <tr style=\"text-align: right;\">\n",
       "      <th></th>\n",
       "      <th>customer_id</th>\n",
       "      <th>Recency</th>\n",
       "      <th>Frequency</th>\n",
       "      <th>MonetaryValue</th>\n",
       "      <th>PC1</th>\n",
       "      <th>PC2</th>\n",
       "      <th>segment k-means</th>\n",
       "      <th>Labels</th>\n",
       "    </tr>\n",
       "  </thead>\n",
       "  <tbody>\n",
       "    <tr>\n",
       "      <th>0</th>\n",
       "      <td>5.94687E+23</td>\n",
       "      <td>9</td>\n",
       "      <td>2</td>\n",
       "      <td>680000.000</td>\n",
       "      <td>-0.444</td>\n",
       "      <td>-0.648</td>\n",
       "      <td>4</td>\n",
       "      <td>About to sleep</td>\n",
       "    </tr>\n",
       "    <tr>\n",
       "      <th>1</th>\n",
       "      <td>5.94772E+23</td>\n",
       "      <td>64</td>\n",
       "      <td>1</td>\n",
       "      <td>600000.000</td>\n",
       "      <td>-1.039</td>\n",
       "      <td>0.824</td>\n",
       "      <td>3</td>\n",
       "      <td>Loose</td>\n",
       "    </tr>\n",
       "    <tr>\n",
       "      <th>2</th>\n",
       "      <td>5.94773E+23</td>\n",
       "      <td>9</td>\n",
       "      <td>5</td>\n",
       "      <td>1700000.000</td>\n",
       "      <td>1.607</td>\n",
       "      <td>-0.428</td>\n",
       "      <td>0</td>\n",
       "      <td>Needs to attention</td>\n",
       "    </tr>\n",
       "    <tr>\n",
       "      <th>3</th>\n",
       "      <td>5.95E+25</td>\n",
       "      <td>5</td>\n",
       "      <td>1</td>\n",
       "      <td>320000.000</td>\n",
       "      <td>-1.135</td>\n",
       "      <td>-0.835</td>\n",
       "      <td>4</td>\n",
       "      <td>About to sleep</td>\n",
       "    </tr>\n",
       "    <tr>\n",
       "      <th>4</th>\n",
       "      <td>58a4b0e452faff000179dbd0</td>\n",
       "      <td>7</td>\n",
       "      <td>7</td>\n",
       "      <td>1480000.000</td>\n",
       "      <td>2.107</td>\n",
       "      <td>-0.430</td>\n",
       "      <td>0</td>\n",
       "      <td>Needs to attention</td>\n",
       "    </tr>\n",
       "    <tr>\n",
       "      <th>...</th>\n",
       "      <td>...</td>\n",
       "      <td>...</td>\n",
       "      <td>...</td>\n",
       "      <td>...</td>\n",
       "      <td>...</td>\n",
       "      <td>...</td>\n",
       "      <td>...</td>\n",
       "      <td>...</td>\n",
       "    </tr>\n",
       "    <tr>\n",
       "      <th>14959</th>\n",
       "      <td>5d3584f8b2cf38d2d17aafba</td>\n",
       "      <td>1</td>\n",
       "      <td>1</td>\n",
       "      <td>200000.000</td>\n",
       "      <td>-1.239</td>\n",
       "      <td>-0.958</td>\n",
       "      <td>4</td>\n",
       "      <td>About to sleep</td>\n",
       "    </tr>\n",
       "    <tr>\n",
       "      <th>14960</th>\n",
       "      <td>5d359600b2cf38d2d17ac0e7</td>\n",
       "      <td>1</td>\n",
       "      <td>1</td>\n",
       "      <td>520000.000</td>\n",
       "      <td>-0.929</td>\n",
       "      <td>-0.924</td>\n",
       "      <td>4</td>\n",
       "      <td>About to sleep</td>\n",
       "    </tr>\n",
       "    <tr>\n",
       "      <th>14961</th>\n",
       "      <td>5d35a06bb2cf38d2d17acbc3</td>\n",
       "      <td>1</td>\n",
       "      <td>1</td>\n",
       "      <td>440000.000</td>\n",
       "      <td>-1.007</td>\n",
       "      <td>-0.933</td>\n",
       "      <td>4</td>\n",
       "      <td>About to sleep</td>\n",
       "    </tr>\n",
       "    <tr>\n",
       "      <th>14962</th>\n",
       "      <td>5d35ae07b2cf38d2d17adb54</td>\n",
       "      <td>1</td>\n",
       "      <td>1</td>\n",
       "      <td>200000.000</td>\n",
       "      <td>-1.239</td>\n",
       "      <td>-0.958</td>\n",
       "      <td>4</td>\n",
       "      <td>About to sleep</td>\n",
       "    </tr>\n",
       "    <tr>\n",
       "      <th>14963</th>\n",
       "      <td>5d35cf29b2cf38d2d17afcda</td>\n",
       "      <td>1</td>\n",
       "      <td>1</td>\n",
       "      <td>420000.000</td>\n",
       "      <td>-1.026</td>\n",
       "      <td>-0.935</td>\n",
       "      <td>4</td>\n",
       "      <td>About to sleep</td>\n",
       "    </tr>\n",
       "  </tbody>\n",
       "</table>\n",
       "<p>14964 rows × 8 columns</p>\n",
       "</div>"
      ],
      "text/plain": [
       "                    customer_id  Recency  Frequency  MonetaryValue    PC1  \\\n",
       "0                   5.94687E+23        9          2     680000.000 -0.444   \n",
       "1                   5.94772E+23       64          1     600000.000 -1.039   \n",
       "2                   5.94773E+23        9          5    1700000.000  1.607   \n",
       "3                      5.95E+25        5          1     320000.000 -1.135   \n",
       "4      58a4b0e452faff000179dbd0        7          7    1480000.000  2.107   \n",
       "...                         ...      ...        ...            ...    ...   \n",
       "14959  5d3584f8b2cf38d2d17aafba        1          1     200000.000 -1.239   \n",
       "14960  5d359600b2cf38d2d17ac0e7        1          1     520000.000 -0.929   \n",
       "14961  5d35a06bb2cf38d2d17acbc3        1          1     440000.000 -1.007   \n",
       "14962  5d35ae07b2cf38d2d17adb54        1          1     200000.000 -1.239   \n",
       "14963  5d35cf29b2cf38d2d17afcda        1          1     420000.000 -1.026   \n",
       "\n",
       "         PC2  segment k-means              Labels  \n",
       "0     -0.648                4      About to sleep  \n",
       "1      0.824                3               Loose  \n",
       "2     -0.428                0  Needs to attention  \n",
       "3     -0.835                4      About to sleep  \n",
       "4     -0.430                0  Needs to attention  \n",
       "...      ...              ...                 ...  \n",
       "14959 -0.958                4      About to sleep  \n",
       "14960 -0.924                4      About to sleep  \n",
       "14961 -0.933                4      About to sleep  \n",
       "14962 -0.958                4      About to sleep  \n",
       "14963 -0.935                4      About to sleep  \n",
       "\n",
       "[14964 rows x 8 columns]"
      ]
     },
     "execution_count": 49,
     "metadata": {},
     "output_type": "execute_result"
    }
   ],
   "source": [
    "rfm_customer_pca_kmeans[\"Labels\"] = rfm_customer_pca_kmeans[\"segment k-means\"].replace({0:\"Needs to attention\",\n",
    "                                                                                1:\"Champion\",\n",
    "                                                                                2:\"Loyal\",\n",
    "                                                                                3:\"Loose\",\n",
    "                                                                                4:\"About to sleep\"})\n",
    "rfm_customer_pca_kmeans"
   ]
  },
  {
   "cell_type": "code",
   "execution_count": 50,
   "metadata": {},
   "outputs": [
    {
     "data": {
      "text/plain": [
       "About to sleep       0.572\n",
       "Loose                0.220\n",
       "Needs to attention   0.156\n",
       "Loyal                0.045\n",
       "Champion             0.007\n",
       "Name: Labels, dtype: float64"
      ]
     },
     "execution_count": 50,
     "metadata": {},
     "output_type": "execute_result"
    }
   ],
   "source": [
    "rfm_customer_pca_kmeans[\"Labels\"].value_counts(normalize=True)"
   ]
  },
  {
   "cell_type": "code",
   "execution_count": 51,
   "metadata": {},
   "outputs": [
    {
     "data": {
      "image/png": "[encoded data removed]",
      "text/plain": [
       "<Figure size 864x432 with 1 Axes>"
      ]
     },
     "metadata": {
      "needs_background": "light"
     },
     "output_type": "display_data"
    }
   ],
   "source": [
    "plt.figure(figsize=(12,6))\n",
    "sns.scatterplot(x=rfm_customer_pca_kmeans[\"Recency\"],y=rfm_customer_pca_kmeans[\"Frequency\"],\n",
    "                hue=rfm_customer_pca_kmeans[\"Labels\"], palette=\"deep\")\n",
    "               \n",
    "plt.title(\"cluster by kmeans\")\n",
    "plt.show()"
   ]
  },
  {
   "cell_type": "markdown",
   "metadata": {},
   "source": [
    "### Relative importance of segment attributes"
   ]
  },
  {
   "cell_type": "markdown",
   "metadata": {},
   "source": [
    "- Useful technique to identify relative importance of each segment's attribute\n",
    "\n",
    "\n",
    "- Calculate average values of each cluster\n",
    "\n",
    "\n",
    "- Calculate average values of population\n",
    "\n",
    "\n",
    "- Calculate importance score by dividing them and subtracting 1 (ensures 0 is returned when cluster average equals population average)\n"
   ]
  },
  {
   "cell_type": "code",
   "execution_count": 52,
   "metadata": {},
   "outputs": [],
   "source": [
    "cluster_avg = rfm_customer_pca_kmeans[[\"Recency\",\"Frequency\",\"MonetaryValue\",\"segment k-means\"]].groupby([\"segment k-means\"]).mean()"
   ]
  },
  {
   "cell_type": "code",
   "execution_count": 53,
   "metadata": {},
   "outputs": [],
   "source": [
    "population_avg = rfm_customer.mean()"
   ]
  },
  {
   "cell_type": "code",
   "execution_count": 54,
   "metadata": {},
   "outputs": [],
   "source": [
    "relative_imp = cluster_avg / population_avg - 1"
   ]
  },
  {
   "cell_type": "code",
   "execution_count": 55,
   "metadata": {},
   "outputs": [
    {
     "data": {
      "text/html": [
       "<div>\n",
       "<style scoped>\n",
       "    .dataframe tbody tr th:only-of-type {\n",
       "        vertical-align: middle;\n",
       "    }\n",
       "\n",
       "    .dataframe tbody tr th {\n",
       "        vertical-align: top;\n",
       "    }\n",
       "\n",
       "    .dataframe thead th {\n",
       "        text-align: right;\n",
       "    }\n",
       "</style>\n",
       "<table border=\"1\" class=\"dataframe\">\n",
       "  <thead>\n",
       "    <tr style=\"text-align: right;\">\n",
       "      <th></th>\n",
       "      <th>Recency</th>\n",
       "      <th>Frequency</th>\n",
       "      <th>MonetaryValue</th>\n",
       "    </tr>\n",
       "    <tr>\n",
       "      <th>segment k-means</th>\n",
       "      <th></th>\n",
       "      <th></th>\n",
       "      <th></th>\n",
       "    </tr>\n",
       "  </thead>\n",
       "  <tbody>\n",
       "    <tr>\n",
       "      <th>0</th>\n",
       "      <td>-0.550</td>\n",
       "      <td>0.950</td>\n",
       "      <td>0.950</td>\n",
       "    </tr>\n",
       "    <tr>\n",
       "      <th>1</th>\n",
       "      <td>-0.650</td>\n",
       "      <td>8.390</td>\n",
       "      <td>8.570</td>\n",
       "    </tr>\n",
       "    <tr>\n",
       "      <th>2</th>\n",
       "      <td>-0.680</td>\n",
       "      <td>3.480</td>\n",
       "      <td>3.550</td>\n",
       "    </tr>\n",
       "    <tr>\n",
       "      <th>3</th>\n",
       "      <td>1.650</td>\n",
       "      <td>-0.540</td>\n",
       "      <td>-0.550</td>\n",
       "    </tr>\n",
       "    <tr>\n",
       "      <th>4</th>\n",
       "      <td>-0.420</td>\n",
       "      <td>-0.430</td>\n",
       "      <td>-0.440</td>\n",
       "    </tr>\n",
       "  </tbody>\n",
       "</table>\n",
       "</div>"
      ],
      "text/plain": [
       "                 Recency  Frequency  MonetaryValue\n",
       "segment k-means                                   \n",
       "0                 -0.550      0.950          0.950\n",
       "1                 -0.650      8.390          8.570\n",
       "2                 -0.680      3.480          3.550\n",
       "3                  1.650     -0.540         -0.550\n",
       "4                 -0.420     -0.430         -0.440"
      ]
     },
     "execution_count": 55,
     "metadata": {},
     "output_type": "execute_result"
    }
   ],
   "source": [
    "relative_imp.round(2)"
   ]
  },
  {
   "cell_type": "code",
   "execution_count": 56,
   "metadata": {},
   "outputs": [],
   "source": [
    "relative_imp = relative_imp.rename({0:\"Needs to attention\",\n",
    "                                    1:\"Champion\",\n",
    "                                    2:\"Loyal\",\n",
    "                                    3:\"Loose\",\n",
    "                                    4:\"About to sleep\"})"
   ]
  },
  {
   "cell_type": "code",
   "execution_count": 57,
   "metadata": {},
   "outputs": [
    {
     "data": {
      "image/png": "[encoded data removed]",
      "text/plain": [
       "<Figure size 720x288 with 2 Axes>"
      ]
     },
     "metadata": {
      "needs_background": "light"
     },
     "output_type": "display_data"
    }
   ],
   "source": [
    "# Plot heatmap\n",
    "plt.figure(figsize=(10,4))\n",
    "plt.title(\"Relative importance of attributes\")\n",
    "s= sns.heatmap(data=relative_imp, annot=True, fmt=\".2f\", cmap=\"RdYlGn\",vmin =-1 ,vmax = 9)\n",
    "s.set_yticklabels(s.get_yticklabels(),rotation=0)\n",
    "plt.show()"
   ]
  },
  {
   "cell_type": "markdown",
   "metadata": {},
   "source": [
    "#### As a ratio moves away from 0, attribute importance for a segment (relative to total pop) increases.\n"
   ]
  },
  {
   "cell_type": "markdown",
   "metadata": {},
   "source": [
    "# End of code"
   ]
  }
 ],
 "metadata": {
  "kernelspec": {
   "display_name": "Python 3",
   "language": "python",
   "name": "python3"
  },
  "language_info": {
   "codemirror_mode": {
    "name": "ipython",
    "version": 3
   },
   "file_extension": ".py",
   "mimetype": "text/x-python",
   "name": "python",
   "nbconvert_exporter": "python",
   "pygments_lexer": "ipython3",
   "version": "3.8.5"
  }
 },
 "nbformat": 4,
 "nbformat_minor": 4
}
